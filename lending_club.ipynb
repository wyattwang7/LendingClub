{
 "cells": [
  {
   "cell_type": "markdown",
   "metadata": {},
   "source": [
    "# LendingClub: Predict Loan Charge-offs\n",
    "By **Wyatt Wang**\n"
   ]
  },
  {
   "cell_type": "markdown",
   "metadata": {},
   "source": [
    "# Table of Contents\n",
    "1. [Project Description](#1)\n",
    "2. [Import Libraries](#2)\n",
    "3. [Data Collection and Pre-Processing](#3)  \n",
    "    3.1 [Assumptions](#3.1)  \n",
    "    3.2 [Missing values](#3.2)  \n",
    "    3.3 [Data Types](#3.3)  \n",
    "    3.4 [Summary](#3.4)  \n",
    "4. [Exploratory Data Analysis](#4)\n",
    "5. [Feature Engineering](#5)\n",
    "6. [Modeling](#6)  \n",
    "    6.1 [Pipeline](#6.1)  \n",
    "    6.2 [Model Training](#6.2)\n",
    "     * 6.2.1 [Baseline](#6.2.1)  \n",
    "       6.2.2 [Model-Based Feature Selection](#6.2.2)  \n",
    "       6.2.3 [Complexity of Features](#6.2.3)  \n",
    "       6.2.4 [Oversampling with SMOTE](#6.2.4)  \n",
    "       6.2.5 [Final Model](#6.2.5)  \n",
    "7. [Business Analysis](#7)  \n",
    "    7.1 [Business Objective](#7.1)  \n",
    "    7.2 [Loan Loss Prediction Training](#7.2)  "
   ]
  },
  {
   "cell_type": "markdown",
   "metadata": {},
   "source": [
    "## 1. Project Description <a id = '1'></a>"
   ]
  },
  {
   "cell_type": "markdown",
   "metadata": {},
   "source": [
    "LendingClub Corp. is an online lender who makes loans online to consumers and sells the loans to investors.\n",
    "\n",
    "In this project, we analyze the loan data of LendingClub from the year 2007 to the second quarter in 2019. The data explores the demographic dimensions of personal loans and loan status (fully paid/ charged off), which is available on their website once you create an account.\n",
    "\n",
    "Our goal is to identify the risk of unsecured personal loans. Specifically, a machine learning model was developed to predict the probability of full payment and charge off.  On top of that, we utilize the model to predict the expected loan loss from current borrowers, providing insights about risk control and loss reduction."
   ]
  },
  {
   "cell_type": "markdown",
   "metadata": {},
   "source": [
    "## 2. Import Libraries <a id = '2'></a>"
   ]
  },
  {
   "cell_type": "code",
   "execution_count": 1,
   "metadata": {},
   "outputs": [
    {
     "name": "stderr",
     "output_type": "stream",
     "text": [
      "/Users/wyattwang/anaconda3/lib/python3.7/site-packages/sklearn/externals/joblib/__init__.py:15: DeprecationWarning:\n",
      "\n",
      "sklearn.externals.joblib is deprecated in 0.21 and will be removed in 0.23. Please import this functionality directly from joblib, which can be installed with: pip install joblib. If this warning is raised when loading pickled models, you may need to re-serialize those models with scikit-learn 0.21+.\n",
      "\n"
     ]
    }
   ],
   "source": [
    "import glob\n",
    "import datetime\n",
    "import pandas as pd\n",
    "import numpy as np\n",
    "import seaborn as sns\n",
    "import matplotlib\n",
    "import matplotlib.pyplot as plt\n",
    "sns.set(style = 'ticks')\n",
    "%matplotlib inline\n",
    "matplotlib.rcParams['figure.dpi'] = 122\n",
    "\n",
    "\n",
    "from sklearn.preprocessing import OneHotEncoder, PolynomialFeatures, StandardScaler\n",
    "from sklearn.impute import SimpleImputer\n",
    "from xgboost import XGBClassifier\n",
    "from sklearn.linear_model import LogisticRegression\n",
    "from sklearn.svm import LinearSVC\n",
    "from sklearn.ensemble import RandomForestClassifier\n",
    "from sklearn.model_selection import train_test_split, RandomizedSearchCV, StratifiedKFold\n",
    "from sklearn.feature_selection import SelectFromModel\n",
    "from sklearn.pipeline import FeatureUnion, Pipeline\n",
    "from sklearn.metrics import roc_auc_score, roc_curve,precision_score, recall_score, precision_recall_curve\n",
    "from imblearn.over_sampling import SMOTE\n",
    "\n",
    "# Custom transformers\n",
    "from custom_transformer import Feature_Selector, Convert_LoanAmnt, Convert_Term, Convert_IntR, \\\n",
    "Convert_Home, Credit_Length, Convert_FICO, Convert_DTI, Smote\n",
    "# Custom model training\n",
    "from model import train_model, plot_roc_curve, plot_precision_recall_curve, plot_learning_curve\n",
    "# Modification of official class BayesSearchCV due to the'fit_params' issue at sklearn = 0.21.0\n",
    "from bayesian_optimization import BayesSearchCV"
   ]
  },
  {
   "cell_type": "markdown",
   "metadata": {},
   "source": [
    "## 3. Data Collection and Pre-Processing <a id = '3'></a>"
   ]
  },
  {
   "cell_type": "markdown",
   "metadata": {},
   "source": [
    "Before loading the datasets into the notebook, unformatted rows of texts in each dataset have been removed. "
   ]
  },
  {
   "cell_type": "code",
   "execution_count": 2,
   "metadata": {},
   "outputs": [
    {
     "data": {
      "text/plain": [
       "['data/LoanStats_securev1_2018Q4.csv',\n",
       " 'data/LoanStats_securev1_2018Q2.csv',\n",
       " 'data/LoanStats_securev1_2018Q3.csv',\n",
       " 'data/LoanStats_securev1_2018Q1.csv',\n",
       " 'data/LoanStats_securev1_2019Q1.csv',\n",
       " 'data/LoanStats_securev1_2019Q2.csv',\n",
       " 'data/LoanStats_securev1_2012-2013.csv',\n",
       " 'data/LoanStats_securev1_2017Q1.csv',\n",
       " 'data/LoanStats_securev1_2017Q2.csv',\n",
       " 'data/LoanStats_securev1_2017Q3.csv',\n",
       " 'data/LoanStats_securev1_2017Q4.csv',\n",
       " 'data/LoanStats_securev1_2016Q2.csv',\n",
       " 'data/LoanStats_securev1_2016Q3.csv',\n",
       " 'data/LoanStats_securev1_2015.csv',\n",
       " 'data/LoanStats_securev1_2016Q1.csv',\n",
       " 'data/LoanStats_securev1_2014.csv',\n",
       " 'data/LoanStats_securev1_2016Q4.csv',\n",
       " 'data/LoanStats_securev1_2007-2011.csv']"
      ]
     },
     "execution_count": 2,
     "metadata": {},
     "output_type": "execute_result"
    }
   ],
   "source": [
    "path = 'data/'\n",
    "filenames = glob.glob(path + \"*.csv\")\n",
    "filenames"
   ]
  },
  {
   "cell_type": "code",
   "execution_count": 3,
   "metadata": {},
   "outputs": [],
   "source": [
    "# Concatenate all datasets\n",
    "original_data = pd.concat(map(lambda file: pd.read_csv(file, low_memory=False), filenames))\n",
    "original_data = original_data.reset_index(drop=True)"
   ]
  },
  {
   "cell_type": "code",
   "execution_count": 4,
   "metadata": {},
   "outputs": [
    {
     "data": {
      "text/html": [
       "<div>\n",
       "<style scoped>\n",
       "    .dataframe tbody tr th:only-of-type {\n",
       "        vertical-align: middle;\n",
       "    }\n",
       "\n",
       "    .dataframe tbody tr th {\n",
       "        vertical-align: top;\n",
       "    }\n",
       "\n",
       "    .dataframe thead th {\n",
       "        text-align: right;\n",
       "    }\n",
       "</style>\n",
       "<table border=\"1\" class=\"dataframe\">\n",
       "  <thead>\n",
       "    <tr style=\"text-align: right;\">\n",
       "      <th></th>\n",
       "      <th>id</th>\n",
       "      <th>member_id</th>\n",
       "      <th>loan_amnt</th>\n",
       "      <th>funded_amnt</th>\n",
       "      <th>funded_amnt_inv</th>\n",
       "      <th>term</th>\n",
       "      <th>int_rate</th>\n",
       "      <th>installment</th>\n",
       "      <th>grade</th>\n",
       "      <th>sub_grade</th>\n",
       "      <th>...</th>\n",
       "      <th>orig_projected_additional_accrued_interest</th>\n",
       "      <th>hardship_payoff_balance_amount</th>\n",
       "      <th>hardship_last_payment_amount</th>\n",
       "      <th>debt_settlement_flag</th>\n",
       "      <th>debt_settlement_flag_date</th>\n",
       "      <th>settlement_status</th>\n",
       "      <th>settlement_date</th>\n",
       "      <th>settlement_amount</th>\n",
       "      <th>settlement_percentage</th>\n",
       "      <th>settlement_term</th>\n",
       "    </tr>\n",
       "  </thead>\n",
       "  <tbody>\n",
       "    <tr>\n",
       "      <td>0</td>\n",
       "      <td>145217616</td>\n",
       "      <td>NaN</td>\n",
       "      <td>10000.0</td>\n",
       "      <td>10000.0</td>\n",
       "      <td>10000.0</td>\n",
       "      <td>36 months</td>\n",
       "      <td>10.33%</td>\n",
       "      <td>324.23</td>\n",
       "      <td>B</td>\n",
       "      <td>B1</td>\n",
       "      <td>...</td>\n",
       "      <td>NaN</td>\n",
       "      <td>NaN</td>\n",
       "      <td>NaN</td>\n",
       "      <td>N</td>\n",
       "      <td>NaN</td>\n",
       "      <td>NaN</td>\n",
       "      <td>NaN</td>\n",
       "      <td>NaN</td>\n",
       "      <td>NaN</td>\n",
       "      <td>NaN</td>\n",
       "    </tr>\n",
       "    <tr>\n",
       "      <td>1</td>\n",
       "      <td>145248657</td>\n",
       "      <td>NaN</td>\n",
       "      <td>4000.0</td>\n",
       "      <td>4000.0</td>\n",
       "      <td>4000.0</td>\n",
       "      <td>36 months</td>\n",
       "      <td>23.40%</td>\n",
       "      <td>155.68</td>\n",
       "      <td>E</td>\n",
       "      <td>E1</td>\n",
       "      <td>...</td>\n",
       "      <td>NaN</td>\n",
       "      <td>NaN</td>\n",
       "      <td>NaN</td>\n",
       "      <td>N</td>\n",
       "      <td>NaN</td>\n",
       "      <td>NaN</td>\n",
       "      <td>NaN</td>\n",
       "      <td>NaN</td>\n",
       "      <td>NaN</td>\n",
       "      <td>NaN</td>\n",
       "    </tr>\n",
       "    <tr>\n",
       "      <td>2</td>\n",
       "      <td>145638579</td>\n",
       "      <td>NaN</td>\n",
       "      <td>5000.0</td>\n",
       "      <td>5000.0</td>\n",
       "      <td>5000.0</td>\n",
       "      <td>36 months</td>\n",
       "      <td>17.97%</td>\n",
       "      <td>180.69</td>\n",
       "      <td>D</td>\n",
       "      <td>D1</td>\n",
       "      <td>...</td>\n",
       "      <td>NaN</td>\n",
       "      <td>NaN</td>\n",
       "      <td>NaN</td>\n",
       "      <td>N</td>\n",
       "      <td>NaN</td>\n",
       "      <td>NaN</td>\n",
       "      <td>NaN</td>\n",
       "      <td>NaN</td>\n",
       "      <td>NaN</td>\n",
       "      <td>NaN</td>\n",
       "    </tr>\n",
       "    <tr>\n",
       "      <td>3</td>\n",
       "      <td>145592722</td>\n",
       "      <td>NaN</td>\n",
       "      <td>23000.0</td>\n",
       "      <td>23000.0</td>\n",
       "      <td>23000.0</td>\n",
       "      <td>60 months</td>\n",
       "      <td>20.89%</td>\n",
       "      <td>620.81</td>\n",
       "      <td>D</td>\n",
       "      <td>D4</td>\n",
       "      <td>...</td>\n",
       "      <td>NaN</td>\n",
       "      <td>NaN</td>\n",
       "      <td>NaN</td>\n",
       "      <td>N</td>\n",
       "      <td>NaN</td>\n",
       "      <td>NaN</td>\n",
       "      <td>NaN</td>\n",
       "      <td>NaN</td>\n",
       "      <td>NaN</td>\n",
       "      <td>NaN</td>\n",
       "    </tr>\n",
       "    <tr>\n",
       "      <td>4</td>\n",
       "      <td>144858623</td>\n",
       "      <td>NaN</td>\n",
       "      <td>8000.0</td>\n",
       "      <td>8000.0</td>\n",
       "      <td>8000.0</td>\n",
       "      <td>36 months</td>\n",
       "      <td>23.40%</td>\n",
       "      <td>311.35</td>\n",
       "      <td>E</td>\n",
       "      <td>E1</td>\n",
       "      <td>...</td>\n",
       "      <td>NaN</td>\n",
       "      <td>NaN</td>\n",
       "      <td>NaN</td>\n",
       "      <td>N</td>\n",
       "      <td>NaN</td>\n",
       "      <td>NaN</td>\n",
       "      <td>NaN</td>\n",
       "      <td>NaN</td>\n",
       "      <td>NaN</td>\n",
       "      <td>NaN</td>\n",
       "    </tr>\n",
       "  </tbody>\n",
       "</table>\n",
       "<p>5 rows × 150 columns</p>\n",
       "</div>"
      ],
      "text/plain": [
       "          id  member_id  loan_amnt  funded_amnt  funded_amnt_inv        term  \\\n",
       "0  145217616        NaN    10000.0      10000.0          10000.0   36 months   \n",
       "1  145248657        NaN     4000.0       4000.0           4000.0   36 months   \n",
       "2  145638579        NaN     5000.0       5000.0           5000.0   36 months   \n",
       "3  145592722        NaN    23000.0      23000.0          23000.0   60 months   \n",
       "4  144858623        NaN     8000.0       8000.0           8000.0   36 months   \n",
       "\n",
       "  int_rate  installment grade sub_grade  ...  \\\n",
       "0   10.33%       324.23     B        B1  ...   \n",
       "1   23.40%       155.68     E        E1  ...   \n",
       "2   17.97%       180.69     D        D1  ...   \n",
       "3   20.89%       620.81     D        D4  ...   \n",
       "4   23.40%       311.35     E        E1  ...   \n",
       "\n",
       "  orig_projected_additional_accrued_interest hardship_payoff_balance_amount  \\\n",
       "0                                        NaN                            NaN   \n",
       "1                                        NaN                            NaN   \n",
       "2                                        NaN                            NaN   \n",
       "3                                        NaN                            NaN   \n",
       "4                                        NaN                            NaN   \n",
       "\n",
       "  hardship_last_payment_amount  debt_settlement_flag  \\\n",
       "0                          NaN                     N   \n",
       "1                          NaN                     N   \n",
       "2                          NaN                     N   \n",
       "3                          NaN                     N   \n",
       "4                          NaN                     N   \n",
       "\n",
       "  debt_settlement_flag_date settlement_status settlement_date  \\\n",
       "0                       NaN               NaN             NaN   \n",
       "1                       NaN               NaN             NaN   \n",
       "2                       NaN               NaN             NaN   \n",
       "3                       NaN               NaN             NaN   \n",
       "4                       NaN               NaN             NaN   \n",
       "\n",
       "  settlement_amount settlement_percentage settlement_term  \n",
       "0               NaN                   NaN             NaN  \n",
       "1               NaN                   NaN             NaN  \n",
       "2               NaN                   NaN             NaN  \n",
       "3               NaN                   NaN             NaN  \n",
       "4               NaN                   NaN             NaN  \n",
       "\n",
       "[5 rows x 150 columns]"
      ]
     },
     "execution_count": 4,
     "metadata": {},
     "output_type": "execute_result"
    }
   ],
   "source": [
    "original_data.head()"
   ]
  },
  {
   "cell_type": "code",
   "execution_count": 5,
   "metadata": {},
   "outputs": [
    {
     "name": "stdout",
     "output_type": "stream",
     "text": [
      "<class 'pandas.core.frame.DataFrame'>\n",
      "RangeIndex: 2507485 entries, 0 to 2507484\n",
      "Columns: 150 entries, id to settlement_term\n",
      "dtypes: float64(111), object(39)\n",
      "memory usage: 2.8+ GB\n"
     ]
    }
   ],
   "source": [
    "original_data.info()"
   ]
  },
  {
   "cell_type": "markdown",
   "metadata": {},
   "source": [
    "The original data has more than 2.5 million records and 150 features."
   ]
  },
  {
   "cell_type": "markdown",
   "metadata": {},
   "source": [
    "### 3.1 Assumptions<a id = '3.1'></a>"
   ]
  },
  {
   "cell_type": "markdown",
   "metadata": {},
   "source": [
    "`Assumption 1`"
   ]
  },
  {
   "cell_type": "code",
   "execution_count": 6,
   "metadata": {},
   "outputs": [
    {
     "data": {
      "text/plain": [
       "Fully Paid                                             1198006\n",
       "Current                                                 968807\n",
       "Charged Off                                             291254\n",
       "Late (31-120 days)                                       22347\n",
       "Issued                                                    8713\n",
       "In Grace Period                                           8475\n",
       "Late (16-30 days)                                         5497\n",
       "Does not meet the credit policy. Status:Fully Paid        1988\n",
       "Default                                                   1634\n",
       "Does not meet the credit policy. Status:Charged Off        761\n",
       "Name: loan_status, dtype: int64"
      ]
     },
     "execution_count": 6,
     "metadata": {},
     "output_type": "execute_result"
    }
   ],
   "source": [
    "original_data['loan_status'].value_counts()"
   ]
  },
  {
   "cell_type": "markdown",
   "metadata": {},
   "source": [
    "**Modeling**: \"loan_status\" is the `target variable`. Because we are predicting whether the loan would be paid off, we just keep loans with status `'Fully paid'` and `'Charged Off'`. \n",
    "\n",
    "**Business Report**: We will use the data with loan_status = `Current` for the purpose of loss prediction."
   ]
  },
  {
   "cell_type": "markdown",
   "metadata": {},
   "source": [
    "`Assumption 2`"
   ]
  },
  {
   "cell_type": "markdown",
   "metadata": {},
   "source": [
    "Next, since we are predicting whether a customer will default, we assume the model should not include features that are generated after the loan issuance. Therefore We go through the [data dictionary](https://www.lendingclub.com/info/download-data.action) by LendingClub to filter out those features."
   ]
  },
  {
   "cell_type": "code",
   "execution_count": 7,
   "metadata": {},
   "outputs": [],
   "source": [
    "unwanted_cols = ['member_id','funded_amnt', 'funded_amnt_inv', 'pymnt_plan', 'url', 'fico_range_high',\n",
    "                 'out_prncp_inv','total_pymnt', 'title', 'zip_code', 'total_pymnt_inv','total_rec_prncp', \n",
    "                 'total_rec_int', 'total_rec_late_fee', 'recoveries', 'collection_recovery_fee', 'last_pymnt_d',\n",
    "                 'last_pymnt_amnt', 'last_credit_pull_d', 'last_fico_range_high','last_fico_range_low',\n",
    "                 'collections_12_mths_ex_med', 'hardship_flag', 'debt_settlement_flag', 'mo_sin_old_rev_tl_op'] "
   ]
  },
  {
   "cell_type": "markdown",
   "metadata": {},
   "source": [
    "`Assumption 3`"
   ]
  },
  {
   "cell_type": "markdown",
   "metadata": {},
   "source": [
    "We may not want to keep columns of only one unique values because they do not add useful information to the model."
   ]
  },
  {
   "cell_type": "code",
   "execution_count": 8,
   "metadata": {},
   "outputs": [
    {
     "name": "stdout",
     "output_type": "stream",
     "text": [
      "Dropped columns: ['policy_code', 'hardship_type', 'deferral_term', 'hardship_length']\n"
     ]
    }
   ],
   "source": [
    "unique_cols = [col for col in original_data.columns.values if original_data[col].nunique() == 1]\n",
    "print(\"Dropped columns:\", unique_cols)"
   ]
  },
  {
   "cell_type": "markdown",
   "metadata": {},
   "source": [
    "`All together`"
   ]
  },
  {
   "cell_type": "code",
   "execution_count": 9,
   "metadata": {},
   "outputs": [
    {
     "data": {
      "text/plain": [
       "(2458067, 121)"
      ]
     },
     "execution_count": 9,
     "metadata": {},
     "output_type": "execute_result"
    }
   ],
   "source": [
    "drop_cols = unwanted_cols + unique_cols\n",
    "original_data = original_data.drop(columns = drop_cols)\n",
    "\n",
    "original_data = original_data.loc[original_data['loan_status'].isin(['Fully Paid', 'Charged Off', 'Current'])]\n",
    "original_data.shape"
   ]
  },
  {
   "cell_type": "markdown",
   "metadata": {},
   "source": [
    "### 3.2 Missing values<a id = '3.2'></a>"
   ]
  },
  {
   "cell_type": "markdown",
   "metadata": {},
   "source": [
    "Let us look at the missing value ratio across columns. "
   ]
  },
  {
   "cell_type": "code",
   "execution_count": 10,
   "metadata": {},
   "outputs": [
    {
     "data": {
      "text/plain": [
       "orig_projected_additional_accrued_interest    0.996962\n",
       "hardship_loan_status                          0.996000\n",
       "payment_plan_start_date                       0.996000\n",
       "hardship_reason                               0.996000\n",
       "hardship_status                               0.996000\n",
       "hardship_amount                               0.996000\n",
       "hardship_start_date                           0.996000\n",
       "hardship_last_payment_amount                  0.996000\n",
       "hardship_payoff_balance_amount                0.996000\n",
       "hardship_end_date                             0.996000\n",
       "dtype: float64"
      ]
     },
     "execution_count": 10,
     "metadata": {},
     "output_type": "execute_result"
    }
   ],
   "source": [
    "original_data.isnull().mean().sort_values(ascending = False).head(10)"
   ]
  },
  {
   "cell_type": "code",
   "execution_count": 11,
   "metadata": {},
   "outputs": [],
   "source": [
    "missing_data = pd.DataFrame(original_data.isnull().mean().sort_values(ascending = False)).reset_index()\n",
    "missing_data.columns = ['Column', 'Missing Value Ratio']"
   ]
  },
  {
   "cell_type": "markdown",
   "metadata": {},
   "source": [
    "Here we are going to **drop out columns with missing value ratio greater than 0.3**, consisuting 32% of features."
   ]
  },
  {
   "cell_type": "code",
   "execution_count": 12,
   "metadata": {},
   "outputs": [
    {
     "data": {
      "text/html": [
       "<div>\n",
       "<style scoped>\n",
       "    .dataframe tbody tr th:only-of-type {\n",
       "        vertical-align: middle;\n",
       "    }\n",
       "\n",
       "    .dataframe tbody tr th {\n",
       "        vertical-align: top;\n",
       "    }\n",
       "\n",
       "    .dataframe thead th {\n",
       "        text-align: right;\n",
       "    }\n",
       "</style>\n",
       "<table border=\"1\" class=\"dataframe\">\n",
       "  <thead>\n",
       "    <tr style=\"text-align: right;\">\n",
       "      <th></th>\n",
       "      <th>Column</th>\n",
       "    </tr>\n",
       "  </thead>\n",
       "  <tbody>\n",
       "    <tr>\n",
       "      <td>0</td>\n",
       "      <td>orig_projected_additional_accrued_interest</td>\n",
       "    </tr>\n",
       "    <tr>\n",
       "      <td>1</td>\n",
       "      <td>hardship_loan_status</td>\n",
       "    </tr>\n",
       "    <tr>\n",
       "      <td>2</td>\n",
       "      <td>payment_plan_start_date</td>\n",
       "    </tr>\n",
       "    <tr>\n",
       "      <td>3</td>\n",
       "      <td>hardship_reason</td>\n",
       "    </tr>\n",
       "    <tr>\n",
       "      <td>4</td>\n",
       "      <td>hardship_status</td>\n",
       "    </tr>\n",
       "    <tr>\n",
       "      <td>5</td>\n",
       "      <td>hardship_amount</td>\n",
       "    </tr>\n",
       "    <tr>\n",
       "      <td>6</td>\n",
       "      <td>hardship_start_date</td>\n",
       "    </tr>\n",
       "    <tr>\n",
       "      <td>7</td>\n",
       "      <td>hardship_last_payment_amount</td>\n",
       "    </tr>\n",
       "    <tr>\n",
       "      <td>8</td>\n",
       "      <td>hardship_payoff_balance_amount</td>\n",
       "    </tr>\n",
       "    <tr>\n",
       "      <td>9</td>\n",
       "      <td>hardship_end_date</td>\n",
       "    </tr>\n",
       "  </tbody>\n",
       "</table>\n",
       "</div>"
      ],
      "text/plain": [
       "                                       Column\n",
       "0  orig_projected_additional_accrued_interest\n",
       "1                        hardship_loan_status\n",
       "2                     payment_plan_start_date\n",
       "3                             hardship_reason\n",
       "4                             hardship_status\n",
       "5                             hardship_amount\n",
       "6                         hardship_start_date\n",
       "7                hardship_last_payment_amount\n",
       "8              hardship_payoff_balance_amount\n",
       "9                           hardship_end_date"
      ]
     },
     "execution_count": 12,
     "metadata": {},
     "output_type": "execute_result"
    }
   ],
   "source": [
    "missing_cols = (missing_data.loc[missing_data['Missing Value Ratio'] >= 0.3, ['Column']])\n",
    "missing_cols.head(10)"
   ]
  },
  {
   "cell_type": "code",
   "execution_count": 13,
   "metadata": {},
   "outputs": [
    {
     "data": {
      "text/plain": [
       "(2458067, 67)"
      ]
     },
     "execution_count": 13,
     "metadata": {},
     "output_type": "execute_result"
    }
   ],
   "source": [
    "original_data = original_data.drop(columns = missing_cols.Column)\n",
    "original_data.shape"
   ]
  },
  {
   "cell_type": "markdown",
   "metadata": {},
   "source": [
    "### 3.3 Data Types<a id = '3.3'></a>"
   ]
  },
  {
   "cell_type": "markdown",
   "metadata": {},
   "source": [
    "In this section we check every feature and suggest necessary dtype transformations based on the defintions. \n",
    "And more importantly, we have reduced the memory usuage of dataframe by **73%** by:  \n",
    "* Downcasting float64 to float32**\n",
    "* Converting object to category**"
   ]
  },
  {
   "cell_type": "markdown",
   "metadata": {},
   "source": [
    "By going through the data dictionary, we found the dtype of certain features need to be converted.  \n",
    "First, we would convert object type 'int_rate' and 'revol_util' to `float` type ."
   ]
  },
  {
   "cell_type": "code",
   "execution_count": 14,
   "metadata": {},
   "outputs": [],
   "source": [
    "original_data[['int_rate', 'revol_util']] = original_data[['int_rate', 'revol_util']].apply(\n",
    "                                                lambda x: x.str.rstrip('%').astype('float'))"
   ]
  },
  {
   "cell_type": "markdown",
   "metadata": {},
   "source": [
    "Then we would convert object type 'issue_d' to `datatime` type."
   ]
  },
  {
   "cell_type": "code",
   "execution_count": 15,
   "metadata": {},
   "outputs": [],
   "source": [
    "# Add a leading zero to the issue date at 2009 or earlier\n",
    "original_data['issue_d'] = original_data['issue_d'].apply(lambda x: '0'+x if not x.startswith('1') else x)\n",
    "original_data['issue_d'] = pd.to_datetime(original_data['issue_d'], format = '%y-%b')\n",
    "original_data['issue_year'] = original_data['issue_d'].dt.year"
   ]
  },
  {
   "cell_type": "code",
   "execution_count": 16,
   "metadata": {},
   "outputs": [
    {
     "name": "stdout",
     "output_type": "stream",
     "text": [
      "<class 'pandas.core.frame.DataFrame'>\n",
      "Int64Index: 2458067 entries, 0 to 2504732\n",
      "Data columns (total 68 columns):\n",
      "id                            object\n",
      "loan_amnt                     float64\n",
      "term                          object\n",
      "int_rate                      float64\n",
      "installment                   float64\n",
      "grade                         object\n",
      "sub_grade                     object\n",
      "emp_title                     object\n",
      "emp_length                    object\n",
      "home_ownership                object\n",
      "annual_inc                    float64\n",
      "verification_status           object\n",
      "issue_d                       datetime64[ns]\n",
      "loan_status                   object\n",
      "purpose                       object\n",
      "addr_state                    object\n",
      "dti                           float64\n",
      "delinq_2yrs                   float64\n",
      "earliest_cr_line              object\n",
      "fico_range_low                float64\n",
      "inq_last_6mths                float64\n",
      "open_acc                      float64\n",
      "pub_rec                       float64\n",
      "revol_bal                     float64\n",
      "revol_util                    float64\n",
      "total_acc                     float64\n",
      "initial_list_status           object\n",
      "out_prncp                     float64\n",
      "application_type              object\n",
      "acc_now_delinq                float64\n",
      "tot_coll_amt                  float64\n",
      "tot_cur_bal                   float64\n",
      "total_rev_hi_lim              float64\n",
      "acc_open_past_24mths          float64\n",
      "avg_cur_bal                   float64\n",
      "bc_open_to_buy                float64\n",
      "bc_util                       float64\n",
      "chargeoff_within_12_mths      float64\n",
      "delinq_amnt                   float64\n",
      "mo_sin_old_il_acct            float64\n",
      "mo_sin_rcnt_rev_tl_op         float64\n",
      "mo_sin_rcnt_tl                float64\n",
      "mort_acc                      float64\n",
      "mths_since_recent_bc          float64\n",
      "mths_since_recent_inq         float64\n",
      "num_accts_ever_120_pd         float64\n",
      "num_actv_bc_tl                float64\n",
      "num_actv_rev_tl               float64\n",
      "num_bc_sats                   float64\n",
      "num_bc_tl                     float64\n",
      "num_il_tl                     float64\n",
      "num_op_rev_tl                 float64\n",
      "num_rev_accts                 float64\n",
      "num_rev_tl_bal_gt_0           float64\n",
      "num_sats                      float64\n",
      "num_tl_120dpd_2m              float64\n",
      "num_tl_30dpd                  float64\n",
      "num_tl_90g_dpd_24m            float64\n",
      "num_tl_op_past_12m            float64\n",
      "pct_tl_nvr_dlq                float64\n",
      "percent_bc_gt_75              float64\n",
      "pub_rec_bankruptcies          float64\n",
      "tax_liens                     float64\n",
      "tot_hi_cred_lim               float64\n",
      "total_bal_ex_mort             float64\n",
      "total_bc_limit                float64\n",
      "total_il_high_credit_limit    float64\n",
      "issue_year                    int64\n",
      "dtypes: datetime64[ns](1), float64(52), int64(1), object(14)\n",
      "memory usage: 3.0 GB\n"
     ]
    }
   ],
   "source": [
    "original_data.info(memory_usage = 'deep')"
   ]
  },
  {
   "cell_type": "markdown",
   "metadata": {},
   "source": [
    "The dataframe is using **3 GB of memory**. Currently there are 54 features with float64 type, 13 features with object types, 1 feature with datetime type and int64 respectively. We are going to **reduce the memory usuage** of the dataframe by changing the dtypes."
   ]
  },
  {
   "cell_type": "code",
   "execution_count": 17,
   "metadata": {},
   "outputs": [],
   "source": [
    "def memory_usage(pd):\n",
    "    '''\n",
    "    Calculate the memory usuage of pandas dataframe.\n",
    "    \n",
    "    Parameters:\n",
    "        pd: pandas dataframe\n",
    "        \n",
    "    Returns:\n",
    "        The memory usuage of dataframe in MB\n",
    "    '''\n",
    "    \n",
    "    memory_usuage = pd.memory_usage(deep=True).sum()\n",
    "    usage_MB = memory_usuage / 1024 ** 2\n",
    "    return \"{:.2f} MB\".format(usage_MB)"
   ]
  },
  {
   "cell_type": "markdown",
   "metadata": {},
   "source": [
    "**`float64 -> float32`** "
   ]
  },
  {
   "cell_type": "code",
   "execution_count": 18,
   "metadata": {},
   "outputs": [
    {
     "name": "stdout",
     "output_type": "stream",
     "text": [
      "Memory usuage of original float columns: 993.94 MB\n",
      "Memory usuage of downcast float columns: 506.35 MB\n"
     ]
    }
   ],
   "source": [
    "original_data_float = original_data.select_dtypes(include = ['float'])\n",
    "downcast_float = original_data_float.apply(pd.to_numeric,downcast = 'float')\n",
    "print('Memory usuage of original float columns:', memory_usage(original_data_float))\n",
    "print('Memory usuage of downcast float columns:',memory_usage(downcast_float))"
   ]
  },
  {
   "cell_type": "markdown",
   "metadata": {},
   "source": [
    "Here the memory usuage of float columns **reduces by 49%**."
   ]
  },
  {
   "cell_type": "markdown",
   "metadata": {},
   "source": [
    "**`object -> category`**"
   ]
  },
  {
   "cell_type": "markdown",
   "metadata": {},
   "source": [
    "Let us take a look at the description of features with object type."
   ]
  },
  {
   "cell_type": "code",
   "execution_count": 19,
   "metadata": {},
   "outputs": [
    {
     "data": {
      "text/html": [
       "<div>\n",
       "<style scoped>\n",
       "    .dataframe tbody tr th:only-of-type {\n",
       "        vertical-align: middle;\n",
       "    }\n",
       "\n",
       "    .dataframe tbody tr th {\n",
       "        vertical-align: top;\n",
       "    }\n",
       "\n",
       "    .dataframe thead th {\n",
       "        text-align: right;\n",
       "    }\n",
       "</style>\n",
       "<table border=\"1\" class=\"dataframe\">\n",
       "  <thead>\n",
       "    <tr style=\"text-align: right;\">\n",
       "      <th></th>\n",
       "      <th>id</th>\n",
       "      <th>term</th>\n",
       "      <th>grade</th>\n",
       "      <th>sub_grade</th>\n",
       "      <th>emp_title</th>\n",
       "      <th>emp_length</th>\n",
       "      <th>home_ownership</th>\n",
       "      <th>verification_status</th>\n",
       "      <th>loan_status</th>\n",
       "      <th>purpose</th>\n",
       "      <th>addr_state</th>\n",
       "      <th>earliest_cr_line</th>\n",
       "      <th>initial_list_status</th>\n",
       "      <th>application_type</th>\n",
       "    </tr>\n",
       "  </thead>\n",
       "  <tbody>\n",
       "    <tr>\n",
       "      <td>count</td>\n",
       "      <td>2458067</td>\n",
       "      <td>2458067</td>\n",
       "      <td>2458067</td>\n",
       "      <td>2458067</td>\n",
       "      <td>2257958</td>\n",
       "      <td>2292520</td>\n",
       "      <td>2458067</td>\n",
       "      <td>2458067</td>\n",
       "      <td>2458067</td>\n",
       "      <td>2458067</td>\n",
       "      <td>2458067</td>\n",
       "      <td>2458067</td>\n",
       "      <td>2458067</td>\n",
       "      <td>2458067</td>\n",
       "    </tr>\n",
       "    <tr>\n",
       "      <td>unique</td>\n",
       "      <td>2458067</td>\n",
       "      <td>2</td>\n",
       "      <td>7</td>\n",
       "      <td>35</td>\n",
       "      <td>535324</td>\n",
       "      <td>11</td>\n",
       "      <td>6</td>\n",
       "      <td>3</td>\n",
       "      <td>3</td>\n",
       "      <td>14</td>\n",
       "      <td>51</td>\n",
       "      <td>762</td>\n",
       "      <td>2</td>\n",
       "      <td>2</td>\n",
       "    </tr>\n",
       "    <tr>\n",
       "      <td>top</td>\n",
       "      <td>83886078</td>\n",
       "      <td>36 months</td>\n",
       "      <td>B</td>\n",
       "      <td>C1</td>\n",
       "      <td>Teacher</td>\n",
       "      <td>10+ years</td>\n",
       "      <td>MORTGAGE</td>\n",
       "      <td>Source Verified</td>\n",
       "      <td>Fully Paid</td>\n",
       "      <td>debt_consolidation</td>\n",
       "      <td>CA</td>\n",
       "      <td>9/4/2019</td>\n",
       "      <td>w</td>\n",
       "      <td>Individual</td>\n",
       "    </tr>\n",
       "    <tr>\n",
       "      <td>freq</td>\n",
       "      <td>1</td>\n",
       "      <td>1746246</td>\n",
       "      <td>722945</td>\n",
       "      <td>156072</td>\n",
       "      <td>42410</td>\n",
       "      <td>807584</td>\n",
       "      <td>1212280</td>\n",
       "      <td>960701</td>\n",
       "      <td>1198006</td>\n",
       "      <td>1384649</td>\n",
       "      <td>341350</td>\n",
       "      <td>16812</td>\n",
       "      <td>1716389</td>\n",
       "      <td>2307720</td>\n",
       "    </tr>\n",
       "  </tbody>\n",
       "</table>\n",
       "</div>"
      ],
      "text/plain": [
       "              id        term    grade sub_grade emp_title emp_length  \\\n",
       "count    2458067     2458067  2458067   2458067   2257958    2292520   \n",
       "unique   2458067           2        7        35    535324         11   \n",
       "top     83886078   36 months        B        C1   Teacher  10+ years   \n",
       "freq           1     1746246   722945    156072     42410     807584   \n",
       "\n",
       "       home_ownership verification_status loan_status             purpose  \\\n",
       "count         2458067             2458067     2458067             2458067   \n",
       "unique              6                   3           3                  14   \n",
       "top          MORTGAGE     Source Verified  Fully Paid  debt_consolidation   \n",
       "freq          1212280              960701     1198006             1384649   \n",
       "\n",
       "       addr_state earliest_cr_line initial_list_status application_type  \n",
       "count     2458067          2458067             2458067          2458067  \n",
       "unique         51              762                   2                2  \n",
       "top            CA         9/4/2019                   w       Individual  \n",
       "freq       341350            16812             1716389          2307720  "
      ]
     },
     "execution_count": 19,
     "metadata": {},
     "output_type": "execute_result"
    }
   ],
   "source": [
    "original_data.describe(include = ['O'])"
   ]
  },
  {
   "cell_type": "markdown",
   "metadata": {},
   "source": [
    "We can see that unique values makes up far less than 50% in every feature. We think it is safe to convert the object type to category type."
   ]
  },
  {
   "cell_type": "code",
   "execution_count": 20,
   "metadata": {},
   "outputs": [
    {
     "name": "stdout",
     "output_type": "stream",
     "text": [
      "Memory usuage of original object columns: 2098.65 MB\n",
      "Memory usuage of converted object columns: 293.38 MB\n"
     ]
    }
   ],
   "source": [
    "original_data_obj = original_data.select_dtypes(include = ['object'])\n",
    "convert_obj = pd.DataFrame()\n",
    "\n",
    "for col in original_data_obj.columns:\n",
    "    convert_obj.loc[:, col] = original_data_obj[col].astype('category')\n",
    "\n",
    "print('Memory usuage of original object columns:', memory_usage(original_data_obj))\n",
    "print('Memory usuage of converted object columns:',memory_usage(convert_obj))"
   ]
  },
  {
   "cell_type": "markdown",
   "metadata": {},
   "source": [
    "The memory usage of object columns has been **reduced by an impressive 86%**."
   ]
  },
  {
   "cell_type": "markdown",
   "metadata": {},
   "source": [
    "**`All Together`**"
   ]
  },
  {
   "cell_type": "markdown",
   "metadata": {},
   "source": [
    "Next we will create a copy of original dataframe and replace float64 columns with `float32` columns and object columns with `category` columns."
   ]
  },
  {
   "cell_type": "code",
   "execution_count": 21,
   "metadata": {},
   "outputs": [
    {
     "name": "stdout",
     "output_type": "stream",
     "text": [
      "Memory usuage of original dataframe: 3111.35 MB\n",
      "Memory usuage of new dataframe: 818.48 MB\n"
     ]
    }
   ],
   "source": [
    "new_data = original_data.copy()\n",
    "new_data[downcast_float.columns] = downcast_float\n",
    "new_data[convert_obj.columns] = convert_obj\n",
    "\n",
    "print('Memory usuage of original dataframe:', memory_usage(original_data))\n",
    "print('Memory usuage of new dataframe:', memory_usage(new_data))"
   ]
  },
  {
   "cell_type": "markdown",
   "metadata": {},
   "source": [
    "We have made great progress! The memory usage of the dataframe **declined to 811.38 MB with a 73% downsizing**."
   ]
  },
  {
   "cell_type": "markdown",
   "metadata": {},
   "source": [
    "### 3.4 Summary<a id = '3.4'></a>"
   ]
  },
  {
   "cell_type": "code",
   "execution_count": 22,
   "metadata": {},
   "outputs": [],
   "source": [
    "# dataframe for the modeling next\n",
    "df = new_data.loc[new_data['loan_status'].isin(['Fully Paid', 'Charged Off'])].drop(columns = ['id', 'out_prncp', 'issue_d'])\n",
    "\n",
    "# dataframe for business analysis                                              \n",
    "business_data = new_data.loc[new_data['loan_status'] == 'Current'].reset_index(drop = True)"
   ]
  },
  {
   "cell_type": "code",
   "execution_count": 23,
   "metadata": {},
   "outputs": [],
   "source": [
    "# Pickle the datafram if necessary\n",
    "#df.to_pickle(\"df.pkl\")\n",
    "#business_data.to_pickle(\"business_data.pkl\")"
   ]
  },
  {
   "cell_type": "code",
   "execution_count": 24,
   "metadata": {},
   "outputs": [],
   "source": [
    "# delete unwanted dataframes\n",
    "del original_data, original_data_float, downcast_float, original_data_obj, convert_obj, new_data"
   ]
  },
  {
   "cell_type": "markdown",
   "metadata": {},
   "source": [
    "## 4. Exploratory Data Analysis<a id = '4'></a>"
   ]
  },
  {
   "cell_type": "markdown",
   "metadata": {},
   "source": [
    "Here we select a few important features."
   ]
  },
  {
   "cell_type": "markdown",
   "metadata": {},
   "source": [
    "**`loan_status`**  \n",
    "Current status of the loan."
   ]
  },
  {
   "cell_type": "code",
   "execution_count": 25,
   "metadata": {},
   "outputs": [
    {
     "data": {
      "text/plain": [
       "Fully Paid     1198006\n",
       "Charged Off     291254\n",
       "Current              0\n",
       "Name: loan_status, dtype: int64"
      ]
     },
     "execution_count": 25,
     "metadata": {},
     "output_type": "execute_result"
    }
   ],
   "source": [
    "df['loan_status'].value_counts()"
   ]
  },
  {
   "cell_type": "markdown",
   "metadata": {},
   "source": [
    "We could see that the distribution of **target feature is imbalanced** where \"Fully paid\" makes up 80% of loan status. We may want to **oversample on 'Charged off'** later before model training. Also, we would **choose AUC , precision and recall** over accuracy when it comes to the model performance evaluation."
   ]
  },
  {
   "cell_type": "markdown",
   "metadata": {},
   "source": [
    "**`loan_amnt`**  \n",
    "The listed amount of the loan applied for by the borrower. If at some point in time, the credit department reduces the loan amount, then it will be reflected in this value."
   ]
  },
  {
   "cell_type": "code",
   "execution_count": 26,
   "metadata": {},
   "outputs": [
    {
     "data": {
      "text/plain": [
       "Text(0.5, 1.0, 'Distribution of Loan Amount')"
      ]
     },
     "execution_count": 26,
     "metadata": {},
     "output_type": "execute_result"
    },
    {
     "data": {
      "image/png": "[encoded data removed]",
      "text/plain": [
       "<Figure size 432x288 with 1 Axes>"
      ]
     },
     "metadata": {
      "needs_background": "light"
     },
     "output_type": "display_data"
    }
   ],
   "source": [
    "df['loan_amnt'].hist(density = True)\n",
    "plt.title('Distribution of Loan Amount')"
   ]
  },
  {
   "cell_type": "markdown",
   "metadata": {},
   "source": [
    "Loan amount with the largest population are USD10,000, 5000 and 15000."
   ]
  },
  {
   "cell_type": "markdown",
   "metadata": {},
   "source": [
    "**`dti`**  \n",
    "A ratio calculated using the borrower’s total monthly debt payments on the total debt obligations, excluding mortgage and the requested LC loan, divided by the borrower’s self-reported monthly income."
   ]
  },
  {
   "cell_type": "code",
   "execution_count": 27,
   "metadata": {},
   "outputs": [
    {
     "data": {
      "text/plain": [
       "count    1.488718e+06\n",
       "mean     1.836339e+01\n",
       "std      1.180910e+01\n",
       "min     -1.000000e+00\n",
       "25%      1.180000e+01\n",
       "50%      1.764000e+01\n",
       "75%      2.413000e+01\n",
       "max      9.990000e+02\n",
       "Name: dti, dtype: float64"
      ]
     },
     "execution_count": 27,
     "metadata": {},
     "output_type": "execute_result"
    }
   ],
   "source": [
    "df['dti'].describe()"
   ]
  },
  {
   "cell_type": "code",
   "execution_count": 28,
   "metadata": {},
   "outputs": [
    {
     "data": {
      "text/plain": [
       "0.000    -1.000000\n",
       "0.099     7.220000\n",
       "0.198    10.430000\n",
       "0.297    12.950000\n",
       "0.396    15.250000\n",
       "0.495    17.530001\n",
       "0.594    19.879999\n",
       "0.693    22.459999\n",
       "0.792    25.490000\n",
       "0.891    29.450001\n",
       "0.990    38.790001\n",
       "Name: dti, dtype: float32"
      ]
     },
     "execution_count": 28,
     "metadata": {},
     "output_type": "execute_result"
    }
   ],
   "source": [
    "df['dti'].quantile(np.arange(0, 1, 0.099))"
   ]
  },
  {
   "cell_type": "code",
   "execution_count": 29,
   "metadata": {},
   "outputs": [
    {
     "data": {
      "text/plain": [
       "0.00610773135651263"
      ]
     },
     "execution_count": 29,
     "metadata": {},
     "output_type": "execute_result"
    }
   ],
   "source": [
    "(df['dti'] >40).mean()"
   ]
  },
  {
   "cell_type": "markdown",
   "metadata": {},
   "source": [
    "99% of borrowers having dti less than 40, which is good. Borrowers with dti greater than 40 only make up 0.6% of population. Notice that the highest dti is 999."
   ]
  },
  {
   "cell_type": "markdown",
   "metadata": {},
   "source": [
    "**`term`**  \n",
    "The number of payments on the loan. Values are in months."
   ]
  },
  {
   "cell_type": "code",
   "execution_count": 30,
   "metadata": {},
   "outputs": [
    {
     "data": {
      "text/plain": [
       " 36 months    1124329\n",
       " 60 months     364931\n",
       "Name: term, dtype: int64"
      ]
     },
     "execution_count": 30,
     "metadata": {},
     "output_type": "execute_result"
    }
   ],
   "source": [
    "df['term'].value_counts()"
   ]
  },
  {
   "cell_type": "markdown",
   "metadata": {},
   "source": [
    "We have either a 36-month or 60-month term. So we will treat it as a categorical feature."
   ]
  },
  {
   "cell_type": "markdown",
   "metadata": {},
   "source": [
    "**`purpose`**  \n",
    "A category provided by the borrower for the loan request. "
   ]
  },
  {
   "cell_type": "code",
   "execution_count": 31,
   "metadata": {},
   "outputs": [],
   "source": [
    "purpose = df[['purpose', 'loan_amnt']].groupby('purpose', as_index = False).sum().sort_values('loan_amnt', ascending = False)\n",
    "total_loan = purpose['loan_amnt'].sum()\n",
    "purpose['% of Loan Amount'] = purpose['loan_amnt'].map(lambda x: '{:.2f}'.format(100 * x / total_loan)).astype('float')"
   ]
  },
  {
   "cell_type": "code",
   "execution_count": 32,
   "metadata": {},
   "outputs": [
    {
     "data": {
      "image/png": "[encoded data removed]",
      "text/plain": [
       "<Figure size 540x360 with 1 Axes>"
      ]
     },
     "metadata": {
      "needs_background": "light"
     },
     "output_type": "display_data"
    }
   ],
   "source": [
    "sns.catplot(x = \"purpose\", y = \"% of Loan Amount\",kind = 'bar', aspect=1.5, data = purpose).set_xticklabels(rotation=30, ha='right')\n",
    "plt.title('Purpose vs. Loan Amount')\n",
    "plt.show()"
   ]
  },
  {
   "cell_type": "markdown",
   "metadata": {},
   "source": [
    "Over 60% of total loan amount are used to consolidate debt. This is easy to understand because its interest rate used to be lower. Next come to credit card paidofff and home improvement, representing 22.53% and 6.44% respectively."
   ]
  },
  {
   "cell_type": "markdown",
   "metadata": {},
   "source": [
    "**`loan_amnt`**"
   ]
  },
  {
   "cell_type": "code",
   "execution_count": 33,
   "metadata": {},
   "outputs": [
    {
     "data": {
      "image/png": "[encoded data removed]",
      "text/plain": [
       "<Figure size 432x288 with 1 Axes>"
      ]
     },
     "metadata": {
      "needs_background": "light"
     },
     "output_type": "display_data"
    }
   ],
   "source": [
    "sns.distplot(df['loan_amnt'], kde = False, bins = 40).set_title('Distribution of Loan Amount')\n",
    "plt.show()"
   ]
  },
  {
   "cell_type": "markdown",
   "metadata": {},
   "source": [
    "The loan amount distribution is right skewed with the greatest amount equal to 40k. Most of loans lie in between 5k and 15k. Also, we could see that 36-month loan is prefeerable to 60-month's, especially for the loan amount less than 10k.  \n",
    "Next we are going to see how loan volume change over year.  \n"
   ]
  },
  {
   "cell_type": "markdown",
   "metadata": {},
   "source": [
    "**`credit score vs. loan_status`**"
   ]
  },
  {
   "cell_type": "code",
   "execution_count": 34,
   "metadata": {},
   "outputs": [
    {
     "data": {
      "image/png": "[encoded data removed]",
      "text/plain": [
       "<Figure size 648x216 with 3 Axes>"
      ]
     },
     "metadata": {
      "needs_background": "light"
     },
     "output_type": "display_data"
    }
   ],
   "source": [
    "fico_loan = df.loc[:, ['fico_range_low', 'loan_status']]\n",
    "\n",
    "g = sns.FacetGrid(fico_loan, col = \"loan_status\")\n",
    "g = g.map(plt.hist, \"fico_range_low\")"
   ]
  },
  {
   "cell_type": "markdown",
   "metadata": {},
   "source": [
    "The most 'charged off' and 'fully paid' both occur in fico between 650 and 700. The distributions for 'charged off\" and 'Fully Piad\" are similar where the former has a heavier right tail."
   ]
  },
  {
   "cell_type": "markdown",
   "metadata": {},
   "source": [
    "**`grade vs. loan_status`**"
   ]
  },
  {
   "cell_type": "code",
   "execution_count": 35,
   "metadata": {},
   "outputs": [
    {
     "data": {
      "image/png": "[encoded data removed]",
      "text/plain": [
       "<Figure size 648x216 with 3 Axes>"
      ]
     },
     "metadata": {
      "needs_background": "light"
     },
     "output_type": "display_data"
    }
   ],
   "source": [
    "grade_loan = df.loc[:, ['grade', 'loan_status']]\n",
    "\n",
    "g = sns.FacetGrid(grade_loan, col = \"loan_status\")\n",
    "g = g.map(plt.hist, \"grade\")"
   ]
  },
  {
   "cell_type": "markdown",
   "metadata": {},
   "source": [
    "All loans are graded by [LendingClub](https://www.lendingclub.com/foliofn/rateDetail.action) where A is the best grade. The loan grade takes into account not only credit score, but also a combination of several indicators of credit risk from the credit report and loan application. Consequently, **people with high grade will be able to borrow at a lower interest rate**. Vice versa.  \n",
    "\n",
    "We could observe that majority of people who fully paid off the loan are those who are **graded A, B and C**. However, those whose debt has been charged off are less likely to be grade A or B customer. Instead **B, C and E** seem more common."
   ]
  },
  {
   "cell_type": "markdown",
   "metadata": {},
   "source": [
    "**`pub_rec_bankruptcies vs. loan_status`**"
   ]
  },
  {
   "cell_type": "code",
   "execution_count": 36,
   "metadata": {},
   "outputs": [
    {
     "data": {
      "text/html": [
       "<div>\n",
       "<style scoped>\n",
       "    .dataframe tbody tr th:only-of-type {\n",
       "        vertical-align: middle;\n",
       "    }\n",
       "\n",
       "    .dataframe tbody tr th {\n",
       "        vertical-align: top;\n",
       "    }\n",
       "\n",
       "    .dataframe thead th {\n",
       "        text-align: right;\n",
       "    }\n",
       "</style>\n",
       "<table border=\"1\" class=\"dataframe\">\n",
       "  <thead>\n",
       "    <tr style=\"text-align: right;\">\n",
       "      <th></th>\n",
       "      <th>pub_rec_bankruptcies</th>\n",
       "    </tr>\n",
       "    <tr>\n",
       "      <th>loan_status</th>\n",
       "      <th></th>\n",
       "    </tr>\n",
       "  </thead>\n",
       "  <tbody>\n",
       "    <tr>\n",
       "      <td>Charged Off</td>\n",
       "      <td>44962.0</td>\n",
       "    </tr>\n",
       "    <tr>\n",
       "      <td>Current</td>\n",
       "      <td>0.0</td>\n",
       "    </tr>\n",
       "    <tr>\n",
       "      <td>Fully Paid</td>\n",
       "      <td>155117.0</td>\n",
       "    </tr>\n",
       "  </tbody>\n",
       "</table>\n",
       "</div>"
      ],
      "text/plain": [
       "             pub_rec_bankruptcies\n",
       "loan_status                      \n",
       "Charged Off               44962.0\n",
       "Current                       0.0\n",
       "Fully Paid               155117.0"
      ]
     },
     "execution_count": 36,
     "metadata": {},
     "output_type": "execute_result"
    }
   ],
   "source": [
    "df[['pub_rec_bankruptcies', 'loan_status']].groupby('loan_status').sum()"
   ]
  },
  {
   "cell_type": "markdown",
   "metadata": {},
   "source": [
    "There are significantly more public record bankruptcies in the 'charged off' group. But what is interesting is 155117 borrowers with such record were still issued loans. Probably the online lending is less strict than we thought."
   ]
  },
  {
   "cell_type": "markdown",
   "metadata": {},
   "source": [
    "**`Correlations between the predictor features and target features`**"
   ]
  },
  {
   "cell_type": "markdown",
   "metadata": {},
   "source": [
    "Here are the feature pairs with pearson correlation >= 0.6. We will drop out features on `level_1`."
   ]
  },
  {
   "cell_type": "code",
   "execution_count": 37,
   "metadata": {},
   "outputs": [
    {
     "data": {
      "text/html": [
       "<div>\n",
       "<style scoped>\n",
       "    .dataframe tbody tr th:only-of-type {\n",
       "        vertical-align: middle;\n",
       "    }\n",
       "\n",
       "    .dataframe tbody tr th {\n",
       "        vertical-align: top;\n",
       "    }\n",
       "\n",
       "    .dataframe thead th {\n",
       "        text-align: right;\n",
       "    }\n",
       "</style>\n",
       "<table border=\"1\" class=\"dataframe\">\n",
       "  <thead>\n",
       "    <tr style=\"text-align: right;\">\n",
       "      <th></th>\n",
       "      <th>level_0</th>\n",
       "      <th>level_1</th>\n",
       "      <th>0</th>\n",
       "    </tr>\n",
       "  </thead>\n",
       "  <tbody>\n",
       "    <tr>\n",
       "      <td>0</td>\n",
       "      <td>loan_amnt</td>\n",
       "      <td>installment</td>\n",
       "      <td>0.952820</td>\n",
       "    </tr>\n",
       "    <tr>\n",
       "      <td>1</td>\n",
       "      <td>delinq_2yrs</td>\n",
       "      <td>num_tl_90g_dpd_24m</td>\n",
       "      <td>0.656027</td>\n",
       "    </tr>\n",
       "    <tr>\n",
       "      <td>2</td>\n",
       "      <td>open_acc</td>\n",
       "      <td>total_acc</td>\n",
       "      <td>0.703673</td>\n",
       "    </tr>\n",
       "    <tr>\n",
       "      <td>3</td>\n",
       "      <td>open_acc</td>\n",
       "      <td>num_actv_rev_tl</td>\n",
       "      <td>0.660882</td>\n",
       "    </tr>\n",
       "    <tr>\n",
       "      <td>4</td>\n",
       "      <td>open_acc</td>\n",
       "      <td>num_bc_sats</td>\n",
       "      <td>0.621959</td>\n",
       "    </tr>\n",
       "    <tr>\n",
       "      <td>5</td>\n",
       "      <td>open_acc</td>\n",
       "      <td>num_op_rev_tl</td>\n",
       "      <td>0.832411</td>\n",
       "    </tr>\n",
       "    <tr>\n",
       "      <td>6</td>\n",
       "      <td>open_acc</td>\n",
       "      <td>num_rev_accts</td>\n",
       "      <td>0.651013</td>\n",
       "    </tr>\n",
       "    <tr>\n",
       "      <td>7</td>\n",
       "      <td>open_acc</td>\n",
       "      <td>num_rev_tl_bal_gt_0</td>\n",
       "      <td>0.663138</td>\n",
       "    </tr>\n",
       "    <tr>\n",
       "      <td>8</td>\n",
       "      <td>open_acc</td>\n",
       "      <td>num_sats</td>\n",
       "      <td>0.998769</td>\n",
       "    </tr>\n",
       "    <tr>\n",
       "      <td>9</td>\n",
       "      <td>pub_rec</td>\n",
       "      <td>pub_rec_bankruptcies</td>\n",
       "      <td>0.644255</td>\n",
       "    </tr>\n",
       "    <tr>\n",
       "      <td>10</td>\n",
       "      <td>pub_rec</td>\n",
       "      <td>tax_liens</td>\n",
       "      <td>0.705403</td>\n",
       "    </tr>\n",
       "    <tr>\n",
       "      <td>11</td>\n",
       "      <td>revol_bal</td>\n",
       "      <td>total_rev_hi_lim</td>\n",
       "      <td>0.808342</td>\n",
       "    </tr>\n",
       "    <tr>\n",
       "      <td>12</td>\n",
       "      <td>revol_util</td>\n",
       "      <td>bc_util</td>\n",
       "      <td>0.857959</td>\n",
       "    </tr>\n",
       "    <tr>\n",
       "      <td>13</td>\n",
       "      <td>revol_util</td>\n",
       "      <td>percent_bc_gt_75</td>\n",
       "      <td>0.729845</td>\n",
       "    </tr>\n",
       "    <tr>\n",
       "      <td>14</td>\n",
       "      <td>total_acc</td>\n",
       "      <td>num_bc_tl</td>\n",
       "      <td>0.624552</td>\n",
       "    </tr>\n",
       "    <tr>\n",
       "      <td>15</td>\n",
       "      <td>total_acc</td>\n",
       "      <td>num_il_tl</td>\n",
       "      <td>0.680940</td>\n",
       "    </tr>\n",
       "    <tr>\n",
       "      <td>16</td>\n",
       "      <td>total_acc</td>\n",
       "      <td>num_rev_accts</td>\n",
       "      <td>0.762784</td>\n",
       "    </tr>\n",
       "    <tr>\n",
       "      <td>17</td>\n",
       "      <td>total_acc</td>\n",
       "      <td>num_sats</td>\n",
       "      <td>0.700365</td>\n",
       "    </tr>\n",
       "    <tr>\n",
       "      <td>18</td>\n",
       "      <td>acc_now_delinq</td>\n",
       "      <td>num_tl_30dpd</td>\n",
       "      <td>0.796781</td>\n",
       "    </tr>\n",
       "    <tr>\n",
       "      <td>19</td>\n",
       "      <td>tot_cur_bal</td>\n",
       "      <td>avg_cur_bal</td>\n",
       "      <td>0.833542</td>\n",
       "    </tr>\n",
       "  </tbody>\n",
       "</table>\n",
       "</div>"
      ],
      "text/plain": [
       "           level_0               level_1         0\n",
       "0        loan_amnt           installment  0.952820\n",
       "1      delinq_2yrs    num_tl_90g_dpd_24m  0.656027\n",
       "2         open_acc             total_acc  0.703673\n",
       "3         open_acc       num_actv_rev_tl  0.660882\n",
       "4         open_acc           num_bc_sats  0.621959\n",
       "5         open_acc         num_op_rev_tl  0.832411\n",
       "6         open_acc         num_rev_accts  0.651013\n",
       "7         open_acc   num_rev_tl_bal_gt_0  0.663138\n",
       "8         open_acc              num_sats  0.998769\n",
       "9          pub_rec  pub_rec_bankruptcies  0.644255\n",
       "10         pub_rec             tax_liens  0.705403\n",
       "11       revol_bal      total_rev_hi_lim  0.808342\n",
       "12      revol_util               bc_util  0.857959\n",
       "13      revol_util      percent_bc_gt_75  0.729845\n",
       "14       total_acc             num_bc_tl  0.624552\n",
       "15       total_acc             num_il_tl  0.680940\n",
       "16       total_acc         num_rev_accts  0.762784\n",
       "17       total_acc              num_sats  0.700365\n",
       "18  acc_now_delinq          num_tl_30dpd  0.796781\n",
       "19     tot_cur_bal           avg_cur_bal  0.833542"
      ]
     },
     "execution_count": 37,
     "metadata": {},
     "output_type": "execute_result"
    }
   ],
   "source": [
    "corr = df.corr()\n",
    "corr = corr.mask(np.tril(np.ones(corr.shape)).astype(np.bool))\n",
    "corr = corr[abs(corr) >= 0.6].stack().reset_index()\n",
    "corr.head(20)"
   ]
  },
  {
   "cell_type": "markdown",
   "metadata": {},
   "source": [
    "## 5. Feature Engineering<a id = '5'></a>"
   ]
  },
  {
   "cell_type": "markdown",
   "metadata": {},
   "source": [
    "All transformers are encapsulated in `custom_transformer.py`. "
   ]
  },
  {
   "cell_type": "markdown",
   "metadata": {},
   "source": [
    "## 6. Modeling<a id = '6'></a>"
   ]
  },
  {
   "cell_type": "markdown",
   "metadata": {},
   "source": [
    "Following the feature engineering, we will create a complete pipeline. Then we train logistic regression, random forest, and Xgboost models and select the best model.  \n",
    "Here are the steps:\n",
    "1. Due to the limit of computing power, we randomly sample 5% of data and feed all features into all three models. Then we choose one of them as the baseline model.\n",
    "2. With the baseline model, we will perform feature selection using a model-based selector, says LinearSVC, to check the performance.\n",
    "3. We will increase/decrease the complexity of features if underfitting/overfitting occurs, and re-train the model.\n",
    "4. We would also try to oversample the data inside the cross-validation to avoid optimistic model performance. Then we would re-train the model.\n",
    "5. Compared all the models previously and choose the best model. That would be used to implement the business analysis of potential loan loss in the next section."
   ]
  },
  {
   "cell_type": "markdown",
   "metadata": {},
   "source": [
    "### 6.1 Pipeline<a id = '6.1'></a>"
   ]
  },
  {
   "cell_type": "code",
   "execution_count": 38,
   "metadata": {},
   "outputs": [],
   "source": [
    "# feature engineering pipeline\n",
    "feature_eng_pipe = Pipeline([('Convert_Term', Convert_Term('term')),\n",
    "                             ('Convert_Home', Convert_Home('home_ownership')),\n",
    "                             ('Credit_Length', Credit_Length('earliest_cr_line'))\n",
    "                            ])\n",
    "\n",
    "# Numeric features\n",
    "num_cols = ['open_acc','pub_rec', 'revol_bal', 'revol_util', 'acc_now_delinq', 'tot_coll_amt',\n",
    "            'tot_cur_bal',  'acc_open_past_24mths', 'bc_open_to_buy', 'chargeoff_within_12_mths',\n",
    "            'delinq_amnt', 'mo_sin_old_il_acct', 'mo_sin_rcnt_rev_tl_op', 'mo_sin_rcnt_tl', \n",
    "            'mths_since_recent_bc', 'mths_since_recent_inq', 'num_accts_ever_120_pd', 'num_actv_bc_tl', \n",
    "            'num_il_tl',  'num_tl_120dpd_2m',  'mort_acc', 'num_tl_90g_dpd_24m', 'pct_tl_nvr_dlq',\n",
    "            'pub_rec_bankruptcies', 'total_bal_ex_mort', 'delinq_2yrs']\n",
    "\n",
    "# Potential polynomial features\n",
    "num_poly_cols = ['loan_amnt', 'int_rate', 'dti', 'annual_inc', 'fico_range_low','inq_last_6mths',\n",
    "                 'credit_length']\n",
    "\n",
    "# Categorical features\n",
    "cat_cols = ['term','sub_grade', 'emp_length','home_ownership', 'verification_status', 'purpose',\n",
    "            'addr_state', 'initial_list_status','application_type']"
   ]
  },
  {
   "cell_type": "code",
   "execution_count": 39,
   "metadata": {},
   "outputs": [],
   "source": [
    "def make_pipe(num_cols, num_poly_cols, cat_cols, poly_features = False):\n",
    "    '''\n",
    "    Make a pipeline for numeric features and categorical features.\n",
    "    \n",
    "    Parameters:\n",
    "        num_cols: numeric features\n",
    "        num_poly_cols: Potential polynomial numeric features\n",
    "        cat_cols: categorical features\n",
    "        poly_features: Boolean\n",
    "        \n",
    "    Returns:\n",
    "        A union pipeline\n",
    "    '''\n",
    "        \n",
    "    if poly_features == True:\n",
    "        num_poly_pipe = Pipeline([('num_poly_selector', Feature_Selector(num_poly_cols)),\n",
    "                                  ('imputer', SimpleImputer(strategy = 'mean')),\n",
    "                                  ('polynomial_features', PolynomialFeatures(interaction_only = True)),\n",
    "                                  ('Normalization', StandardScaler())])\n",
    "    else:\n",
    "        num_poly_pipe = Pipeline([('num_poly_selector', Feature_Selector(num_poly_cols)),\n",
    "                                  ('imputer', SimpleImputer(strategy = 'mean')),\n",
    "                                  ('Normalization', StandardScaler())])\n",
    "        \n",
    "    num_pipe = Pipeline([('num_selector', Feature_Selector(num_cols)),\n",
    "                         ('imputer', SimpleImputer(strategy = 'mean')),\n",
    "                         ('Normalization', StandardScaler())])  \n",
    "    \n",
    "    cat_pipe = Pipeline([('cat_selector', Feature_Selector(cat_cols)),\n",
    "                         ('imputer', SimpleImputer(strategy = 'most_frequent')),\n",
    "                         ('ohe', OneHotEncoder(sparse = False, handle_unknown='ignore'))])\n",
    "\n",
    "    union = FeatureUnion([('num', num_pipe),\n",
    "                          ('num_poly', num_poly_pipe), \n",
    "                          ('cat', cat_pipe)])\n",
    "    return union\n"
   ]
  },
  {
   "cell_type": "code",
   "execution_count": 40,
   "metadata": {},
   "outputs": [],
   "source": [
    "union = make_pipe(num_cols, num_poly_cols, cat_cols)"
   ]
  },
  {
   "cell_type": "markdown",
   "metadata": {},
   "source": [
    "### 6.2 Model Training<a id = '6.2'></a>"
   ]
  },
  {
   "cell_type": "markdown",
   "metadata": {},
   "source": [
    "Since the target feature is imbalanced, accuracy is not a good indicator of model performance. We will take a look at precision, recall and AOC-AUC to evaluate the model. Additionaly, we would sample 5% of data for model training."
   ]
  },
  {
   "cell_type": "code",
   "execution_count": 41,
   "metadata": {},
   "outputs": [],
   "source": [
    "# Map two loan statuses\n",
    "df['Charged_off'] = df['loan_status'].map({'Fully Paid': 0, 'Charged Off':1})\n",
    "df = df.drop(columns = ['loan_status'])"
   ]
  },
  {
   "cell_type": "code",
   "execution_count": 42,
   "metadata": {},
   "outputs": [],
   "source": [
    "# Random state\n",
    "rs = 0"
   ]
  },
  {
   "cell_type": "code",
   "execution_count": 43,
   "metadata": {},
   "outputs": [
    {
     "data": {
      "text/plain": [
       "(29785, 65)"
      ]
     },
     "execution_count": 43,
     "metadata": {},
     "output_type": "execute_result"
    }
   ],
   "source": [
    "# sample 5% of data\n",
    "pct5_df = df.sample(frac = 0.02, replace = False, random_state = rs).reset_index(drop = True)\n",
    "pct5_df.shape"
   ]
  },
  {
   "cell_type": "code",
   "execution_count": 44,
   "metadata": {},
   "outputs": [
    {
     "data": {
      "text/plain": [
       "((23828, 64), (5957, 64), (23828,), (5957,))"
      ]
     },
     "execution_count": 44,
     "metadata": {},
     "output_type": "execute_result"
    }
   ],
   "source": [
    "# Split the training data\n",
    "X = pct5_df.drop('Charged_off', axis = 1)\n",
    "y = pct5_df['Charged_off']\n",
    "\n",
    "X_train, X_test, y_train, y_test = train_test_split(X, y, test_size = 0.2, random_state = rs)\n",
    "X_train.shape, X_test.shape, y_train.shape, y_test.shape"
   ]
  },
  {
   "cell_type": "markdown",
   "metadata": {},
   "source": [
    "#### 6.2.1 Baseline<a id = '6.2.1'></a>"
   ]
  },
  {
   "cell_type": "markdown",
   "metadata": {},
   "source": [
    "**`Logistic Regression`**"
   ]
  },
  {
   "cell_type": "code",
   "execution_count": 45,
   "metadata": {},
   "outputs": [],
   "source": [
    "clf = LogisticRegression(class_weight = 'balanced', random_state = rs)\n",
    "\n",
    "full_pipe = Pipeline([('feature_engineering', feature_eng_pipe),\n",
    "                      ('union', union),\n",
    "                      ('classifier', clf)])\n",
    "\n",
    "param_grid =({'classifier__penalty': ['l1', 'l2'],\n",
    "              'classifier__C': np.logspace(0.001, 10, 5),\n",
    "              'union__num__imputer__strategy': ['median', 'mean']\n",
    "              })"
   ]
  },
  {
   "cell_type": "code",
   "execution_count": 46,
   "metadata": {},
   "outputs": [
    {
     "name": "stdout",
     "output_type": "stream",
     "text": [
      "Fitting 5 folds for each of 10 candidates, totalling 50 fits\n"
     ]
    },
    {
     "name": "stderr",
     "output_type": "stream",
     "text": [
      "[Parallel(n_jobs=-1)]: Using backend LokyBackend with 12 concurrent workers.\n",
      "[Parallel(n_jobs=-1)]: Done  26 tasks      | elapsed:   36.6s\n",
      "[Parallel(n_jobs=-1)]: Done  50 out of  50 | elapsed:   49.4s finished\n",
      "/Users/wyattwang/anaconda3/lib/python3.7/site-packages/sklearn/linear_model/logistic.py:432: FutureWarning:\n",
      "\n",
      "Default solver will be changed to 'lbfgs' in 0.22. Specify a solver to silence this warning.\n",
      "\n"
     ]
    },
    {
     "name": "stdout",
     "output_type": "stream",
     "text": [
      "AUC is \u001b[1m0.715361414663943\u001b[0m\n",
      "Training score is 0.7189756899897839\n",
      "CV score is 0.7067510173036103\n",
      "Best parameter is {'union__num__imputer__strategy': 'mean', 'classifier__penalty': 'l1', 'classifier__C': 1.0023052380778996}\n"
     ]
    }
   ],
   "source": [
    "lr_model = train_model(full_pipe, param_grid, RandomizedSearchCV, 'Logistic Regression',\n",
    "                       X_train, X_test, y_train, y_test)"
   ]
  },
  {
   "cell_type": "markdown",
   "metadata": {},
   "source": [
    "**`Random Forest`**"
   ]
  },
  {
   "cell_type": "code",
   "execution_count": 47,
   "metadata": {},
   "outputs": [],
   "source": [
    "clf = RandomForestClassifier(class_weight = 'balanced', random_state = rs)\n",
    "\n",
    "full_pipe = Pipeline([('feature_engineering', feature_eng_pipe),\n",
    "                 ('union', union),\n",
    "                 ('classifier', clf)])\n",
    "\n",
    "param_grid =({'classifier__n_estimators': [100, 200, 300, 500],\n",
    "              'classifier__max_depth': [5, 8, 10, 15],\n",
    "              'classifier__max_leaf_nodes': [10, 60, 100],\n",
    "              'union__num__imputer__strategy': ['median', 'mean']\n",
    "              })"
   ]
  },
  {
   "cell_type": "code",
   "execution_count": 48,
   "metadata": {},
   "outputs": [
    {
     "name": "stdout",
     "output_type": "stream",
     "text": [
      "Fitting 5 folds for each of 10 candidates, totalling 50 fits\n"
     ]
    },
    {
     "name": "stderr",
     "output_type": "stream",
     "text": [
      "[Parallel(n_jobs=-1)]: Using backend LokyBackend with 12 concurrent workers.\n",
      "[Parallel(n_jobs=-1)]: Done  26 tasks      | elapsed:  1.1min\n",
      "[Parallel(n_jobs=-1)]: Done  50 out of  50 | elapsed:  1.8min finished\n"
     ]
    },
    {
     "name": "stdout",
     "output_type": "stream",
     "text": [
      "AUC is \u001b[1m0.7133173949215798\u001b[0m\n",
      "Training score is 0.7729639427620699\n",
      "CV score is 0.7065293870196295\n",
      "Best parameter is {'union__num__imputer__strategy': 'median', 'classifier__n_estimators': 300, 'classifier__max_leaf_nodes': 100, 'classifier__max_depth': 10}\n"
     ]
    }
   ],
   "source": [
    "rf_model = train_model(full_pipe, param_grid, RandomizedSearchCV, 'Random Forest', \n",
    "                       X_train, X_test, y_train, y_test)"
   ]
  },
  {
   "cell_type": "markdown",
   "metadata": {},
   "source": [
    "**`XGBoost`**"
   ]
  },
  {
   "cell_type": "markdown",
   "metadata": {},
   "source": [
    "You might want to use the BayesSearchCV, which is also imported with modifications with 'fit_params' issue. We turn to RandomizedSearchcv because of its similar auc with less running time."
   ]
  },
  {
   "cell_type": "code",
   "execution_count": 49,
   "metadata": {},
   "outputs": [],
   "source": [
    "clf = XGBClassifier(random_state = rs)\n",
    "\n",
    "full_pipe = Pipeline([('feature_engineering', feature_eng_pipe),\n",
    "                 ('union', union),\n",
    "                 ('classifier', clf)])\n",
    "\n",
    "param_grid = {'classifier__n_estimators': [100, 200, 300, 500],\n",
    "              'classifier__learning_rate': [0.05, 0.1, 0.15, 0.2, 0.25, 0.3],\n",
    "              'classifier__max_depth': [3, 5, 8, 10, 12],\n",
    "              'classifier__min_child_weight': [1, 3, 5, 6, 8],\n",
    "              'classifier__scale_pos_weight': [4],\n",
    "              'union__num__imputer__strategy': ['median', 'mean']\n",
    "             }"
   ]
  },
  {
   "cell_type": "code",
   "execution_count": 50,
   "metadata": {},
   "outputs": [
    {
     "name": "stdout",
     "output_type": "stream",
     "text": [
      "Fitting 5 folds for each of 10 candidates, totalling 50 fits\n"
     ]
    },
    {
     "name": "stderr",
     "output_type": "stream",
     "text": [
      "[Parallel(n_jobs=-1)]: Using backend LokyBackend with 12 concurrent workers.\n",
      "[Parallel(n_jobs=-1)]: Done  26 tasks      | elapsed:  6.3min\n",
      "[Parallel(n_jobs=-1)]: Done  50 out of  50 | elapsed: 12.9min finished\n"
     ]
    },
    {
     "name": "stdout",
     "output_type": "stream",
     "text": [
      "AUC is \u001b[1m0.7120964569961955\u001b[0m\n",
      "Training score is 0.7764892781488554\n",
      "CV score is 0.705777703047135\n",
      "Best parameter is {'union__num__imputer__strategy': 'median', 'classifier__scale_pos_weight': 4, 'classifier__n_estimators': 100, 'classifier__min_child_weight': 1, 'classifier__max_depth': 3, 'classifier__learning_rate': 0.2}\n"
     ]
    }
   ],
   "source": [
    "xgb_model =train_model(full_pipe, param_grid, RandomizedSearchCV, 'XGBoost', \n",
    "                        X_train, X_test, y_train, y_test)"
   ]
  },
  {
   "cell_type": "markdown",
   "metadata": {},
   "source": [
    "We want the highest auc so **logistic regression** appears to be the best model to move forward with. Next, we are trying to use regularization to find optimal coefficients for our **feature selection**."
   ]
  },
  {
   "cell_type": "markdown",
   "metadata": {},
   "source": [
    "#### 6.2.2 Model-Based Feature Selection<a id = '6.2.2'></a>"
   ]
  },
  {
   "cell_type": "markdown",
   "metadata": {},
   "source": [
    "Since it is a binary classfication, we will use linearsvc as the selector and re-train the model."
   ]
  },
  {
   "cell_type": "code",
   "execution_count": 51,
   "metadata": {},
   "outputs": [],
   "source": [
    "clf = LogisticRegression(class_weight = 'balanced', random_state = rs)\n",
    "svc_selector = SelectFromModel(LinearSVC(dual = False))\n",
    "\n",
    "full_pipe = Pipeline([('feature_engineering', feature_eng_pipe),\n",
    "                      ('union', union),\n",
    "                      ('select', svc_selector),\n",
    "                      ('classifier', clf)])\n",
    "\n",
    "param_grid =({'classifier__penalty': ['l1', 'l2'],\n",
    "              'classifier__C': np.logspace(0.001, 10, 5),\n",
    "              'union__num__imputer__strategy': ['median', 'mean'],\n",
    "              'select__threshold': [.01, .05, .1, \"mean\", 'median'],\n",
    "              'select__estimator__penalty': ['l1', 'l2']\n",
    "              })"
   ]
  },
  {
   "cell_type": "code",
   "execution_count": 52,
   "metadata": {},
   "outputs": [
    {
     "name": "stdout",
     "output_type": "stream",
     "text": [
      "Fitting 5 folds for each of 10 candidates, totalling 50 fits\n"
     ]
    },
    {
     "name": "stderr",
     "output_type": "stream",
     "text": [
      "[Parallel(n_jobs=-1)]: Using backend LokyBackend with 12 concurrent workers.\n",
      "[Parallel(n_jobs=-1)]: Done  26 tasks      | elapsed:   43.6s\n",
      "[Parallel(n_jobs=-1)]: Done  50 out of  50 | elapsed:  1.1min finished\n",
      "/Users/wyattwang/anaconda3/lib/python3.7/site-packages/sklearn/linear_model/logistic.py:432: FutureWarning:\n",
      "\n",
      "Default solver will be changed to 'lbfgs' in 0.22. Specify a solver to silence this warning.\n",
      "\n"
     ]
    },
    {
     "name": "stdout",
     "output_type": "stream",
     "text": [
      "AUC is \u001b[1m0.7150616178515045\u001b[0m\n",
      "Training score is 0.7188862330387079\n",
      "CV score is 0.7061490387811105\n",
      "Best parameter is {'union__num__imputer__strategy': 'median', 'select__threshold': 0.01, 'select__estimator__penalty': 'l2', 'classifier__penalty': 'l1', 'classifier__C': 10000000000.0}\n"
     ]
    }
   ],
   "source": [
    "lr_s_model = train_model(full_pipe, param_grid, RandomizedSearchCV, 'lr', \n",
    "                         X_train, X_test, y_train, y_test)"
   ]
  },
  {
   "cell_type": "markdown",
   "metadata": {},
   "source": [
    "We could see that feature selections did not help to improve the auc. Additionally, the auc of baseline model 0.7153 indicates underfitting, thus we think there might be repetition in the features. Next we will **increase the complexity of features** to tackle underfitting."
   ]
  },
  {
   "cell_type": "markdown",
   "metadata": {},
   "source": [
    "#### 6.2.3 Complexity of Features<a id = '6.2.3'></a>"
   ]
  },
  {
   "cell_type": "markdown",
   "metadata": {},
   "source": [
    "We are going to add polynomial features into the pipeline and re-train the model."
   ]
  },
  {
   "cell_type": "code",
   "execution_count": 11,
   "metadata": {},
   "outputs": [],
   "source": [
    "union = make_pipe(num_cols, num_poly_cols, cat_cols, poly_features = True)"
   ]
  },
  {
   "cell_type": "code",
   "execution_count": 12,
   "metadata": {},
   "outputs": [],
   "source": [
    "clf = LogisticRegression(class_weight = 'balanced', random_state = rs)\n",
    "\n",
    "full_pipe = Pipeline([('feature_engineering', feature_eng_pipe),\n",
    "                      ('union', union),\n",
    "                      ('classifier', clf)])\n",
    "\n",
    "param_grid =({'classifier__penalty': ['l1', 'l2'],\n",
    "              'classifier__C': np.logspace(0.001, 10, 5),\n",
    "              'union__num__imputer__strategy': ['median', 'mean']\n",
    "              })"
   ]
  },
  {
   "cell_type": "code",
   "execution_count": 13,
   "metadata": {},
   "outputs": [
    {
     "name": "stdout",
     "output_type": "stream",
     "text": [
      "Fitting 5 folds for each of 10 candidates, totalling 50 fits\n"
     ]
    },
    {
     "name": "stderr",
     "output_type": "stream",
     "text": [
      "[Parallel(n_jobs=-1)]: Using backend LokyBackend with 12 concurrent workers.\n",
      "[Parallel(n_jobs=-1)]: Done  26 tasks      | elapsed:  3.7min\n",
      "[Parallel(n_jobs=-1)]: Done  50 out of  50 | elapsed:  6.9min finished\n",
      "/Users/wyattwang/anaconda3/lib/python3.7/site-packages/sklearn/linear_model/logistic.py:432: FutureWarning:\n",
      "\n",
      "Default solver will be changed to 'lbfgs' in 0.22. Specify a solver to silence this warning.\n",
      "\n"
     ]
    },
    {
     "name": "stdout",
     "output_type": "stream",
     "text": [
      "AUC is \u001b[1m0.7174304476832811\u001b[0m\n",
      "Training score is 0.7220081577815123\n",
      "CV score is 0.7077781630305443\n",
      "Best parameter is {'union__num__imputer__strategy': 'mean', 'classifier__penalty': 'l1', 'classifier__C': 1.0023052380778996}\n"
     ]
    }
   ],
   "source": [
    "lr_c_model = train_model(full_pipe, param_grid, RandomizedSearchCV, 'Logistic Regression', \n",
    "                       X_train, X_test, y_train, y_test)"
   ]
  },
  {
   "cell_type": "markdown",
   "metadata": {},
   "source": [
    "Now we have a better auc 0.7174 than the baseline! Let us take a look at the feature importance."
   ]
  },
  {
   "cell_type": "code",
   "execution_count": 14,
   "metadata": {},
   "outputs": [],
   "source": [
    "coefs = lr_c_model.named_steps['classifier'].coef_[0]\n",
    "\n",
    "transformed_num_poly_cols = lr_c_model.named_steps['union'].transformer_list[1][1] \\\n",
    "                                                           .steps[2][1].get_feature_names(num_poly_cols)\n",
    "\n",
    "transformed_cat_cols = lr_c_model.named_steps['union'].transformer_list[2][1] \\\n",
    "                                                           .steps[2][1].get_feature_names(cat_cols)\n",
    "\n",
    "features = num_cols + transformed_num_poly_cols + list(transformed_cat_cols)"
   ]
  },
  {
   "cell_type": "code",
   "execution_count": 15,
   "metadata": {},
   "outputs": [
    {
     "data": {
      "text/html": [
       "<div>\n",
       "<style scoped>\n",
       "    .dataframe tbody tr th:only-of-type {\n",
       "        vertical-align: middle;\n",
       "    }\n",
       "\n",
       "    .dataframe tbody tr th {\n",
       "        vertical-align: top;\n",
       "    }\n",
       "\n",
       "    .dataframe thead th {\n",
       "        text-align: right;\n",
       "    }\n",
       "</style>\n",
       "<table border=\"1\" class=\"dataframe\">\n",
       "  <thead>\n",
       "    <tr style=\"text-align: right;\">\n",
       "      <th></th>\n",
       "      <th>Coef</th>\n",
       "    </tr>\n",
       "  </thead>\n",
       "  <tbody>\n",
       "    <tr>\n",
       "      <td>fico_range_low credit_length</td>\n",
       "      <td>1.509143</td>\n",
       "    </tr>\n",
       "    <tr>\n",
       "      <td>credit_length</td>\n",
       "      <td>1.417221</td>\n",
       "    </tr>\n",
       "    <tr>\n",
       "      <td>dti</td>\n",
       "      <td>1.290230</td>\n",
       "    </tr>\n",
       "    <tr>\n",
       "      <td>annual_inc fico_range_low</td>\n",
       "      <td>1.254658</td>\n",
       "    </tr>\n",
       "    <tr>\n",
       "      <td>dti fico_range_low</td>\n",
       "      <td>1.161458</td>\n",
       "    </tr>\n",
       "    <tr>\n",
       "      <td>annual_inc</td>\n",
       "      <td>1.135177</td>\n",
       "    </tr>\n",
       "    <tr>\n",
       "      <td>sub_grade_A1</td>\n",
       "      <td>0.977445</td>\n",
       "    </tr>\n",
       "    <tr>\n",
       "      <td>sub_grade_A2</td>\n",
       "      <td>0.893779</td>\n",
       "    </tr>\n",
       "    <tr>\n",
       "      <td>sub_grade_G5</td>\n",
       "      <td>0.847549</td>\n",
       "    </tr>\n",
       "    <tr>\n",
       "      <td>sub_grade_A5</td>\n",
       "      <td>0.691967</td>\n",
       "    </tr>\n",
       "    <tr>\n",
       "      <td>sub_grade_A3</td>\n",
       "      <td>0.664847</td>\n",
       "    </tr>\n",
       "    <tr>\n",
       "      <td>int_rate fico_range_low</td>\n",
       "      <td>0.627666</td>\n",
       "    </tr>\n",
       "    <tr>\n",
       "      <td>fico_range_low inq_last_6mths</td>\n",
       "      <td>0.595058</td>\n",
       "    </tr>\n",
       "    <tr>\n",
       "      <td>addr_state_NH</td>\n",
       "      <td>0.563860</td>\n",
       "    </tr>\n",
       "    <tr>\n",
       "      <td>sub_grade_A4</td>\n",
       "      <td>0.522564</td>\n",
       "    </tr>\n",
       "    <tr>\n",
       "      <td>sub_grade_B1</td>\n",
       "      <td>0.493190</td>\n",
       "    </tr>\n",
       "    <tr>\n",
       "      <td>inq_last_6mths</td>\n",
       "      <td>0.489055</td>\n",
       "    </tr>\n",
       "    <tr>\n",
       "      <td>int_rate</td>\n",
       "      <td>0.484310</td>\n",
       "    </tr>\n",
       "    <tr>\n",
       "      <td>sub_grade_B2</td>\n",
       "      <td>0.476394</td>\n",
       "    </tr>\n",
       "    <tr>\n",
       "      <td>sub_grade_F5</td>\n",
       "      <td>0.441738</td>\n",
       "    </tr>\n",
       "  </tbody>\n",
       "</table>\n",
       "</div>"
      ],
      "text/plain": [
       "                                   Coef\n",
       "fico_range_low credit_length   1.509143\n",
       "credit_length                  1.417221\n",
       "dti                            1.290230\n",
       "annual_inc fico_range_low      1.254658\n",
       "dti fico_range_low             1.161458\n",
       "annual_inc                     1.135177\n",
       "sub_grade_A1                   0.977445\n",
       "sub_grade_A2                   0.893779\n",
       "sub_grade_G5                   0.847549\n",
       "sub_grade_A5                   0.691967\n",
       "sub_grade_A3                   0.664847\n",
       "int_rate fico_range_low        0.627666\n",
       "fico_range_low inq_last_6mths  0.595058\n",
       "addr_state_NH                  0.563860\n",
       "sub_grade_A4                   0.522564\n",
       "sub_grade_B1                   0.493190\n",
       "inq_last_6mths                 0.489055\n",
       "int_rate                       0.484310\n",
       "sub_grade_B2                   0.476394\n",
       "sub_grade_F5                   0.441738"
      ]
     },
     "execution_count": 15,
     "metadata": {},
     "output_type": "execute_result"
    }
   ],
   "source": [
    "feature_importance = pd.DataFrame(data = np.abs(coefs), index = features) \\\n",
    "                       .rename(columns = {0: 'Coef'}).sort_values('Coef', ascending = False)\n",
    "feature_importance.head(20)"
   ]
  },
  {
   "cell_type": "markdown",
   "metadata": {},
   "source": [
    "We could see that **fico, credit length, dti, annual income, interest rate, subgrade, inquiries in last 6 months and their interactions** are the most important features. Before the conclustion that this is the final mode, we would like to **oversample the minor class** to see if the model performance would improve."
   ]
  },
  {
   "cell_type": "markdown",
   "metadata": {},
   "source": [
    "#### 6.2.4 Oversampling with SMOTE<a id = '6.2.4'></a>"
   ]
  },
  {
   "cell_type": "markdown",
   "metadata": {},
   "source": [
    "Because we have imbalanced classes, we are going to **oversample the minor class (0) inside the cross validation** with the model in 6.2.3."
   ]
  },
  {
   "cell_type": "code",
   "execution_count": 16,
   "metadata": {},
   "outputs": [],
   "source": [
    "# Transform X before oversampling\n",
    "X_SMOTE = full_pipe[:-1].fit_transform(X)"
   ]
  },
  {
   "cell_type": "code",
   "execution_count": 18,
   "metadata": {},
   "outputs": [
    {
     "name": "stderr",
     "output_type": "stream",
     "text": [
      "/Users/wyattwang/anaconda3/lib/python3.7/site-packages/sklearn/linear_model/logistic.py:432: FutureWarning:\n",
      "\n",
      "Default solver will be changed to 'lbfgs' in 0.22. Specify a solver to silence this warning.\n",
      "\n",
      "/Users/wyattwang/anaconda3/lib/python3.7/site-packages/sklearn/linear_model/logistic.py:432: FutureWarning:\n",
      "\n",
      "Default solver will be changed to 'lbfgs' in 0.22. Specify a solver to silence this warning.\n",
      "\n",
      "/Users/wyattwang/anaconda3/lib/python3.7/site-packages/sklearn/linear_model/logistic.py:432: FutureWarning:\n",
      "\n",
      "Default solver will be changed to 'lbfgs' in 0.22. Specify a solver to silence this warning.\n",
      "\n",
      "/Users/wyattwang/anaconda3/lib/python3.7/site-packages/sklearn/linear_model/logistic.py:432: FutureWarning:\n",
      "\n",
      "Default solver will be changed to 'lbfgs' in 0.22. Specify a solver to silence this warning.\n",
      "\n",
      "/Users/wyattwang/anaconda3/lib/python3.7/site-packages/sklearn/linear_model/logistic.py:432: FutureWarning:\n",
      "\n",
      "Default solver will be changed to 'lbfgs' in 0.22. Specify a solver to silence this warning.\n",
      "\n"
     ]
    },
    {
     "name": "stdout",
     "output_type": "stream",
     "text": [
      "auc is 0.7054792220842148\n"
     ]
    }
   ],
   "source": [
    "skf = StratifiedKFold(n_splits = 5, random_state = rs)\n",
    "aucs = [] # Store the aucs from the cross validation\n",
    "\n",
    "for train_index, test_index in skf.split(X_SMOTE, y):\n",
    "    X_train_ind, X_test_ind = X_SMOTE[train_index], X_SMOTE[test_index]\n",
    "    y_train_ind, y_test_ind = y[train_index], y[test_index]\n",
    "    \n",
    "    sm = SMOTE()\n",
    "    X_train_oversampled, y_train_oversampled = sm.fit_sample(X_train_ind, y_train_ind)\n",
    "    model = lr_c_model.named_steps['classifier']\n",
    "    model.fit(X_train_oversampled, y_train_oversampled)  \n",
    "    y_score_ind = model.predict_proba(X_test_ind)[:, 1]\n",
    "    auc_ind = roc_auc_score(y_test_ind, y_score_ind)\n",
    "    aucs.append(auc_ind)\n",
    "    \n",
    "print('auc is {}'.format(np.mean(aucs)))"
   ]
  },
  {
   "cell_type": "markdown",
   "metadata": {},
   "source": [
    "Seems oversampling is not helpful. Now we confirm the final model."
   ]
  },
  {
   "cell_type": "markdown",
   "metadata": {},
   "source": [
    "#### 6.2.5 Final Model<a id = '6.2.5'></a>"
   ]
  },
  {
   "cell_type": "markdown",
   "metadata": {},
   "source": [
    "We would choose the linear regression model in 6.2.3 as the **final model**."
   ]
  },
  {
   "cell_type": "code",
   "execution_count": 19,
   "metadata": {},
   "outputs": [
    {
     "data": {
      "image/png": "[encoded data removed]",
      "text/plain": [
       "<Figure size 720x432 with 1 Axes>"
      ]
     },
     "metadata": {
      "needs_background": "light"
     },
     "output_type": "display_data"
    }
   ],
   "source": [
    "y_score = lr_c_model.predict_proba(X_test)[:, 1]\n",
    "fpr, tpr, _ = roc_curve(y_test, y_score)\n",
    "auc = roc_auc_score(y_test, y_score)\n",
    "\n",
    "plot_roc_curve(fpr, tpr, auc)"
   ]
  },
  {
   "cell_type": "markdown",
   "metadata": {},
   "source": [
    "## 7. Business Analysis<a id = '7'></a>"
   ]
  },
  {
   "cell_type": "markdown",
   "metadata": {},
   "source": [
    "### 7.1 Business Objective<a id = '7.1'></a>"
   ]
  },
  {
   "cell_type": "markdown",
   "metadata": {},
   "source": [
    "By applying varying classification thresholds, we can trace out explicitly the trade-off between preicision and recall from the PR curve."
   ]
  },
  {
   "cell_type": "code",
   "execution_count": 20,
   "metadata": {},
   "outputs": [
    {
     "data": {
      "image/png": "[encoded data removed]",
      "text/plain": [
       "<Figure size 432x288 with 1 Axes>"
      ]
     },
     "metadata": {
      "needs_background": "light"
     },
     "output_type": "display_data"
    }
   ],
   "source": [
    "thresholds = np.arange(0.1, 1, 0.1)\n",
    "plot_precision_recall_curve(y_score, y_test, thresholds)"
   ]
  },
  {
   "cell_type": "markdown",
   "metadata": {},
   "source": [
    "* Positive: Charge Off\n",
    "* Negative: Fully Paid\n",
    "* Precision is defined as `True Positive/(True Positive + False Positive)`.\n",
    "* Recall is defined as `True Positive/(True Positive + False Negative)`.\n",
    "\n",
    "At the default threshold 0.5, we have a precision 0.3 and recall 0.65, which means we have a significant number of false positives. In other words, many borrowers who paid off are predicted to have a charge off.  \n",
    "\n",
    "In the business setting, the threshold is set differently by business objectives.  For example, if LendingClub wants to minimize the loan loss due to charge offs, they may want to lower the threshold to get a good recall score. This would reduce the likelihood that the positive class(charge off) is missed. However, on the other side, the precision score would go down,  resulting in more false positives. That means a growing number of borrowers who paid off are predicted to have a charge off. This would cause the borrowers to have a bad experience with the company. And more importantly, LendingClub would lose the interest income collected from those who are incorrectly classified. Vice versa."
   ]
  },
  {
   "cell_type": "markdown",
   "metadata": {},
   "source": [
    "### 7.2 Loan Loss Prediction<a id = '7.2'></a>"
   ]
  },
  {
   "cell_type": "markdown",
   "metadata": {},
   "source": [
    "By utilizing the machine learning model, we are trying to predict the loan loss for those current borrowers.  \n",
    "\n",
    "Assume threshold = 0.5."
   ]
  },
  {
   "cell_type": "code",
   "execution_count": 21,
   "metadata": {},
   "outputs": [
    {
     "data": {
      "text/html": [
       "<div>\n",
       "<style scoped>\n",
       "    .dataframe tbody tr th:only-of-type {\n",
       "        vertical-align: middle;\n",
       "    }\n",
       "\n",
       "    .dataframe tbody tr th {\n",
       "        vertical-align: top;\n",
       "    }\n",
       "\n",
       "    .dataframe thead th {\n",
       "        text-align: right;\n",
       "    }\n",
       "</style>\n",
       "<table border=\"1\" class=\"dataframe\">\n",
       "  <thead>\n",
       "    <tr style=\"text-align: right;\">\n",
       "      <th></th>\n",
       "      <th>id</th>\n",
       "      <th>loan_amnt</th>\n",
       "      <th>term</th>\n",
       "      <th>int_rate</th>\n",
       "      <th>installment</th>\n",
       "      <th>grade</th>\n",
       "      <th>sub_grade</th>\n",
       "      <th>emp_title</th>\n",
       "      <th>emp_length</th>\n",
       "      <th>home_ownership</th>\n",
       "      <th>...</th>\n",
       "      <th>num_tl_op_past_12m</th>\n",
       "      <th>pct_tl_nvr_dlq</th>\n",
       "      <th>percent_bc_gt_75</th>\n",
       "      <th>pub_rec_bankruptcies</th>\n",
       "      <th>tax_liens</th>\n",
       "      <th>tot_hi_cred_lim</th>\n",
       "      <th>total_bal_ex_mort</th>\n",
       "      <th>total_bc_limit</th>\n",
       "      <th>total_il_high_credit_limit</th>\n",
       "      <th>issue_year</th>\n",
       "    </tr>\n",
       "  </thead>\n",
       "  <tbody>\n",
       "    <tr>\n",
       "      <td>0</td>\n",
       "      <td>145217616</td>\n",
       "      <td>10000.0</td>\n",
       "      <td>36 months</td>\n",
       "      <td>10.330000</td>\n",
       "      <td>324.230011</td>\n",
       "      <td>B</td>\n",
       "      <td>B1</td>\n",
       "      <td>NaN</td>\n",
       "      <td>&lt; 1 year</td>\n",
       "      <td>MORTGAGE</td>\n",
       "      <td>...</td>\n",
       "      <td>4.0</td>\n",
       "      <td>91.300003</td>\n",
       "      <td>28.6</td>\n",
       "      <td>0.0</td>\n",
       "      <td>0.0</td>\n",
       "      <td>367828.0</td>\n",
       "      <td>61364.0</td>\n",
       "      <td>20900.0</td>\n",
       "      <td>54912.0</td>\n",
       "      <td>2018</td>\n",
       "    </tr>\n",
       "    <tr>\n",
       "      <td>1</td>\n",
       "      <td>145248657</td>\n",
       "      <td>4000.0</td>\n",
       "      <td>36 months</td>\n",
       "      <td>23.400000</td>\n",
       "      <td>155.679993</td>\n",
       "      <td>E</td>\n",
       "      <td>E1</td>\n",
       "      <td>Security</td>\n",
       "      <td>3 years</td>\n",
       "      <td>RENT</td>\n",
       "      <td>...</td>\n",
       "      <td>9.0</td>\n",
       "      <td>95.000000</td>\n",
       "      <td>0.0</td>\n",
       "      <td>0.0</td>\n",
       "      <td>0.0</td>\n",
       "      <td>98655.0</td>\n",
       "      <td>66926.0</td>\n",
       "      <td>21900.0</td>\n",
       "      <td>71555.0</td>\n",
       "      <td>2018</td>\n",
       "    </tr>\n",
       "    <tr>\n",
       "      <td>2</td>\n",
       "      <td>145592722</td>\n",
       "      <td>23000.0</td>\n",
       "      <td>60 months</td>\n",
       "      <td>20.889999</td>\n",
       "      <td>620.809998</td>\n",
       "      <td>D</td>\n",
       "      <td>D4</td>\n",
       "      <td>Operator</td>\n",
       "      <td>5 years</td>\n",
       "      <td>RENT</td>\n",
       "      <td>...</td>\n",
       "      <td>3.0</td>\n",
       "      <td>100.000000</td>\n",
       "      <td>0.0</td>\n",
       "      <td>0.0</td>\n",
       "      <td>0.0</td>\n",
       "      <td>7500.0</td>\n",
       "      <td>976.0</td>\n",
       "      <td>3300.0</td>\n",
       "      <td>0.0</td>\n",
       "      <td>2018</td>\n",
       "    </tr>\n",
       "    <tr>\n",
       "      <td>3</td>\n",
       "      <td>144858623</td>\n",
       "      <td>8000.0</td>\n",
       "      <td>36 months</td>\n",
       "      <td>23.400000</td>\n",
       "      <td>311.350006</td>\n",
       "      <td>E</td>\n",
       "      <td>E1</td>\n",
       "      <td>Manager</td>\n",
       "      <td>10+ years</td>\n",
       "      <td>OWN</td>\n",
       "      <td>...</td>\n",
       "      <td>2.0</td>\n",
       "      <td>100.000000</td>\n",
       "      <td>100.0</td>\n",
       "      <td>1.0</td>\n",
       "      <td>0.0</td>\n",
       "      <td>199744.0</td>\n",
       "      <td>31078.0</td>\n",
       "      <td>2300.0</td>\n",
       "      <td>32206.0</td>\n",
       "      <td>2018</td>\n",
       "    </tr>\n",
       "    <tr>\n",
       "      <td>4</td>\n",
       "      <td>145606176</td>\n",
       "      <td>32075.0</td>\n",
       "      <td>60 months</td>\n",
       "      <td>11.800000</td>\n",
       "      <td>710.260010</td>\n",
       "      <td>B</td>\n",
       "      <td>B4</td>\n",
       "      <td>Nursing Supervisor</td>\n",
       "      <td>10+ years</td>\n",
       "      <td>MORTGAGE</td>\n",
       "      <td>...</td>\n",
       "      <td>2.0</td>\n",
       "      <td>100.000000</td>\n",
       "      <td>50.0</td>\n",
       "      <td>0.0</td>\n",
       "      <td>0.0</td>\n",
       "      <td>360433.0</td>\n",
       "      <td>56635.0</td>\n",
       "      <td>20000.0</td>\n",
       "      <td>80125.0</td>\n",
       "      <td>2018</td>\n",
       "    </tr>\n",
       "  </tbody>\n",
       "</table>\n",
       "<p>5 rows × 68 columns</p>\n",
       "</div>"
      ],
      "text/plain": [
       "          id  loan_amnt        term   int_rate  installment grade sub_grade  \\\n",
       "0  145217616    10000.0   36 months  10.330000   324.230011     B        B1   \n",
       "1  145248657     4000.0   36 months  23.400000   155.679993     E        E1   \n",
       "2  145592722    23000.0   60 months  20.889999   620.809998     D        D4   \n",
       "3  144858623     8000.0   36 months  23.400000   311.350006     E        E1   \n",
       "4  145606176    32075.0   60 months  11.800000   710.260010     B        B4   \n",
       "\n",
       "            emp_title emp_length home_ownership  ...  num_tl_op_past_12m  \\\n",
       "0                 NaN   < 1 year       MORTGAGE  ...                 4.0   \n",
       "1            Security    3 years           RENT  ...                 9.0   \n",
       "2            Operator    5 years           RENT  ...                 3.0   \n",
       "3             Manager  10+ years            OWN  ...                 2.0   \n",
       "4  Nursing Supervisor  10+ years       MORTGAGE  ...                 2.0   \n",
       "\n",
       "  pct_tl_nvr_dlq percent_bc_gt_75 pub_rec_bankruptcies tax_liens  \\\n",
       "0      91.300003             28.6                  0.0       0.0   \n",
       "1      95.000000              0.0                  0.0       0.0   \n",
       "2     100.000000              0.0                  0.0       0.0   \n",
       "3     100.000000            100.0                  1.0       0.0   \n",
       "4     100.000000             50.0                  0.0       0.0   \n",
       "\n",
       "  tot_hi_cred_lim  total_bal_ex_mort  total_bc_limit  \\\n",
       "0        367828.0            61364.0         20900.0   \n",
       "1         98655.0            66926.0         21900.0   \n",
       "2          7500.0              976.0          3300.0   \n",
       "3        199744.0            31078.0          2300.0   \n",
       "4        360433.0            56635.0         20000.0   \n",
       "\n",
       "  total_il_high_credit_limit  issue_year  \n",
       "0                    54912.0        2018  \n",
       "1                    71555.0        2018  \n",
       "2                        0.0        2018  \n",
       "3                    32206.0        2018  \n",
       "4                    80125.0        2018  \n",
       "\n",
       "[5 rows x 68 columns]"
      ]
     },
     "execution_count": 21,
     "metadata": {},
     "output_type": "execute_result"
    }
   ],
   "source": [
    "# We created this dataframe in section 3.4\n",
    "business_data.head()"
   ]
  },
  {
   "cell_type": "markdown",
   "metadata": {},
   "source": [
    "**First** we run the model with business data, and get the probability of charge off for each borrower."
   ]
  },
  {
   "cell_type": "code",
   "execution_count": 22,
   "metadata": {},
   "outputs": [],
   "source": [
    "X_business_data = business_data.drop(columns = ['id', 'out_prncp', 'issue_d', 'loan_status'])"
   ]
  },
  {
   "cell_type": "code",
   "execution_count": 24,
   "metadata": {},
   "outputs": [],
   "source": [
    "# Calculate the probability of charge off for each current borrower\n",
    "y_score_business_data = lr_c_model.predict_proba(X_business_data)[:, 1]"
   ]
  },
  {
   "cell_type": "markdown",
   "metadata": {},
   "source": [
    "**Secondly** we are going to calculate the expected loan loss.  \n",
    "\n",
    "`Expected Loss = LGD x PD x EAD`  \n",
    "The expected loss is calculated as a loan’s LGD multiplied by both its probability of default (PD) and the financial institution’s exposure at default (EAD).\n",
    "\n",
    "LGD(%): the amount unrecovered by the lender after selling the underlying asset if a borrower defaults on a loan. Because there is no collateral requirement for all of loans in the data, `LGD  equals to 1`. \n",
    "\n",
    "PD: `y_score_business_data`.  \n",
    "\n",
    "EAD: Remaining outstanding principal, which is the feature `'out_prncp'`."
   ]
  },
  {
   "cell_type": "code",
   "execution_count": 25,
   "metadata": {},
   "outputs": [
    {
     "data": {
      "text/plain": [
       "array([[  751.22457302],\n",
       "       [ 2821.91239087],\n",
       "       [15342.55570156],\n",
       "       ...,\n",
       "       [ 3673.42145044],\n",
       "       [ 5014.88966849],\n",
       "       [ 4522.1600192 ]])"
      ]
     },
     "execution_count": 25,
     "metadata": {},
     "output_type": "execute_result"
    }
   ],
   "source": [
    "PD = pd.DataFrame(y_score_business_data.reshape(-1, 1))\n",
    "EAD = pd.DataFrame(business_data['out_prncp'])\n",
    "\n",
    "Expected_Loss = PD.values * EAD.values\n",
    "Expected_Loss"
   ]
  },
  {
   "cell_type": "markdown",
   "metadata": {},
   "source": [
    "**Lastly** we briefly analyze the data of loan loss."
   ]
  },
  {
   "cell_type": "code",
   "execution_count": 26,
   "metadata": {},
   "outputs": [
    {
     "data": {
      "text/html": [
       "<div>\n",
       "<style scoped>\n",
       "    .dataframe tbody tr th:only-of-type {\n",
       "        vertical-align: middle;\n",
       "    }\n",
       "\n",
       "    .dataframe tbody tr th {\n",
       "        vertical-align: top;\n",
       "    }\n",
       "\n",
       "    .dataframe thead th {\n",
       "        text-align: right;\n",
       "    }\n",
       "</style>\n",
       "<table border=\"1\" class=\"dataframe\">\n",
       "  <thead>\n",
       "    <tr style=\"text-align: right;\">\n",
       "      <th></th>\n",
       "      <th>id</th>\n",
       "      <th>issue_year</th>\n",
       "      <th>loan_amnt</th>\n",
       "      <th>term</th>\n",
       "      <th>int_rate</th>\n",
       "      <th>grade</th>\n",
       "      <th>annual_inc</th>\n",
       "      <th>fico_range_low</th>\n",
       "      <th>addr_state</th>\n",
       "      <th>dti</th>\n",
       "      <th>expected_loss</th>\n",
       "    </tr>\n",
       "  </thead>\n",
       "  <tbody>\n",
       "    <tr>\n",
       "      <td>0</td>\n",
       "      <td>145217616</td>\n",
       "      <td>2018</td>\n",
       "      <td>10000.0</td>\n",
       "      <td>36 months</td>\n",
       "      <td>10.330000</td>\n",
       "      <td>B</td>\n",
       "      <td>280000.0</td>\n",
       "      <td>700.0</td>\n",
       "      <td>OR</td>\n",
       "      <td>6.150000</td>\n",
       "      <td>751.224573</td>\n",
       "    </tr>\n",
       "    <tr>\n",
       "      <td>1</td>\n",
       "      <td>145248657</td>\n",
       "      <td>2018</td>\n",
       "      <td>4000.0</td>\n",
       "      <td>36 months</td>\n",
       "      <td>23.400000</td>\n",
       "      <td>E</td>\n",
       "      <td>90000.0</td>\n",
       "      <td>730.0</td>\n",
       "      <td>NJ</td>\n",
       "      <td>26.330000</td>\n",
       "      <td>2821.912391</td>\n",
       "    </tr>\n",
       "    <tr>\n",
       "      <td>2</td>\n",
       "      <td>145592722</td>\n",
       "      <td>2018</td>\n",
       "      <td>23000.0</td>\n",
       "      <td>60 months</td>\n",
       "      <td>20.889999</td>\n",
       "      <td>D</td>\n",
       "      <td>68107.0</td>\n",
       "      <td>670.0</td>\n",
       "      <td>KS</td>\n",
       "      <td>0.520000</td>\n",
       "      <td>15342.555702</td>\n",
       "    </tr>\n",
       "    <tr>\n",
       "      <td>3</td>\n",
       "      <td>144858623</td>\n",
       "      <td>2018</td>\n",
       "      <td>8000.0</td>\n",
       "      <td>36 months</td>\n",
       "      <td>23.400000</td>\n",
       "      <td>E</td>\n",
       "      <td>43000.0</td>\n",
       "      <td>685.0</td>\n",
       "      <td>AL</td>\n",
       "      <td>33.240002</td>\n",
       "      <td>4915.414390</td>\n",
       "    </tr>\n",
       "    <tr>\n",
       "      <td>4</td>\n",
       "      <td>145606176</td>\n",
       "      <td>2018</td>\n",
       "      <td>32075.0</td>\n",
       "      <td>60 months</td>\n",
       "      <td>11.800000</td>\n",
       "      <td>B</td>\n",
       "      <td>150000.0</td>\n",
       "      <td>695.0</td>\n",
       "      <td>VA</td>\n",
       "      <td>22.209999</td>\n",
       "      <td>14850.361735</td>\n",
       "    </tr>\n",
       "  </tbody>\n",
       "</table>\n",
       "</div>"
      ],
      "text/plain": [
       "          id  issue_year  loan_amnt        term   int_rate grade  annual_inc  \\\n",
       "0  145217616        2018    10000.0   36 months  10.330000     B    280000.0   \n",
       "1  145248657        2018     4000.0   36 months  23.400000     E     90000.0   \n",
       "2  145592722        2018    23000.0   60 months  20.889999     D     68107.0   \n",
       "3  144858623        2018     8000.0   36 months  23.400000     E     43000.0   \n",
       "4  145606176        2018    32075.0   60 months  11.800000     B    150000.0   \n",
       "\n",
       "   fico_range_low addr_state        dti  expected_loss  \n",
       "0           700.0         OR   6.150000     751.224573  \n",
       "1           730.0         NJ  26.330000    2821.912391  \n",
       "2           670.0         KS   0.520000   15342.555702  \n",
       "3           685.0         AL  33.240002    4915.414390  \n",
       "4           695.0         VA  22.209999   14850.361735  "
      ]
     },
     "execution_count": 26,
     "metadata": {},
     "output_type": "execute_result"
    }
   ],
   "source": [
    "business_cols = ['id', 'issue_year', 'loan_amnt', 'term', 'int_rate', 'grade', 'annual_inc', 'fico_range_low',\n",
    "                'addr_state', 'dti']\n",
    "new_business_data = business_data.loc[:, business_cols]\n",
    "new_business_data['expected_loss'] = Expected_Loss\n",
    "new_business_data.head()"
   ]
  },
  {
   "cell_type": "markdown",
   "metadata": {},
   "source": [
    "**`Distribution of expected loss`**"
   ]
  },
  {
   "cell_type": "code",
   "execution_count": 27,
   "metadata": {},
   "outputs": [
    {
     "data": {
      "text/plain": [
       "<matplotlib.axes._subplots.AxesSubplot at 0x13edfc940>"
      ]
     },
     "execution_count": 27,
     "metadata": {},
     "output_type": "execute_result"
    },
    {
     "data": {
      "image/png": "[encoded data removed]",
      "text/plain": [
       "<Figure size 432x288 with 1 Axes>"
      ]
     },
     "metadata": {
      "needs_background": "light"
     },
     "output_type": "display_data"
    }
   ],
   "source": [
    "new_business_data['expected_loss'].plot.hist()"
   ]
  },
  {
   "cell_type": "markdown",
   "metadata": {},
   "source": [
    "Majority of expected loss are less than or equal to USD5,000, and the maximum loss exceeds USD35,000."
   ]
  },
  {
   "cell_type": "markdown",
   "metadata": {},
   "source": [
    "**`TOP 10 states with greatest loan loss`**"
   ]
  },
  {
   "cell_type": "code",
   "execution_count": 28,
   "metadata": {},
   "outputs": [
    {
     "data": {
      "text/html": [
       "<div>\n",
       "<style scoped>\n",
       "    .dataframe tbody tr th:only-of-type {\n",
       "        vertical-align: middle;\n",
       "    }\n",
       "\n",
       "    .dataframe tbody tr th {\n",
       "        vertical-align: top;\n",
       "    }\n",
       "\n",
       "    .dataframe thead th {\n",
       "        text-align: right;\n",
       "    }\n",
       "</style>\n",
       "<table border=\"1\" class=\"dataframe\">\n",
       "  <thead>\n",
       "    <tr style=\"text-align: right;\">\n",
       "      <th></th>\n",
       "      <th>expected_loss</th>\n",
       "    </tr>\n",
       "    <tr>\n",
       "      <th>addr_state</th>\n",
       "      <th></th>\n",
       "    </tr>\n",
       "  </thead>\n",
       "  <tbody>\n",
       "    <tr>\n",
       "      <td>CA</td>\n",
       "      <td>6.583569e+08</td>\n",
       "    </tr>\n",
       "    <tr>\n",
       "      <td>NY</td>\n",
       "      <td>4.070824e+08</td>\n",
       "    </tr>\n",
       "    <tr>\n",
       "      <td>TX</td>\n",
       "      <td>4.029692e+08</td>\n",
       "    </tr>\n",
       "    <tr>\n",
       "      <td>FL</td>\n",
       "      <td>3.782640e+08</td>\n",
       "    </tr>\n",
       "    <tr>\n",
       "      <td>NJ</td>\n",
       "      <td>2.018166e+08</td>\n",
       "    </tr>\n",
       "    <tr>\n",
       "      <td>IL</td>\n",
       "      <td>1.786085e+08</td>\n",
       "    </tr>\n",
       "    <tr>\n",
       "      <td>PA</td>\n",
       "      <td>1.693594e+08</td>\n",
       "    </tr>\n",
       "    <tr>\n",
       "      <td>OH</td>\n",
       "      <td>1.571901e+08</td>\n",
       "    </tr>\n",
       "    <tr>\n",
       "      <td>GA</td>\n",
       "      <td>1.505658e+08</td>\n",
       "    </tr>\n",
       "    <tr>\n",
       "      <td>VA</td>\n",
       "      <td>1.338462e+08</td>\n",
       "    </tr>\n",
       "  </tbody>\n",
       "</table>\n",
       "</div>"
      ],
      "text/plain": [
       "            expected_loss\n",
       "addr_state               \n",
       "CA           6.583569e+08\n",
       "NY           4.070824e+08\n",
       "TX           4.029692e+08\n",
       "FL           3.782640e+08\n",
       "NJ           2.018166e+08\n",
       "IL           1.786085e+08\n",
       "PA           1.693594e+08\n",
       "OH           1.571901e+08\n",
       "GA           1.505658e+08\n",
       "VA           1.338462e+08"
      ]
     },
     "execution_count": 28,
     "metadata": {},
     "output_type": "execute_result"
    }
   ],
   "source": [
    "new_business_data[['addr_state', 'expected_loss']].groupby('addr_state').sum() \\\n",
    "                                                  .sort_values('expected_loss', ascending = False).head(10)"
   ]
  },
  {
   "cell_type": "markdown",
   "metadata": {},
   "source": [
    "California, New York and Texas are the top three states with highest loss. They should make significant efforts to collect outstanding payments."
   ]
  },
  {
   "cell_type": "markdown",
   "metadata": {},
   "source": [
    "**`grade vs. loan loss`**"
   ]
  },
  {
   "cell_type": "code",
   "execution_count": 29,
   "metadata": {
    "scrolled": true
   },
   "outputs": [
    {
     "data": {
      "text/html": [
       "<div>\n",
       "<style scoped>\n",
       "    .dataframe tbody tr th:only-of-type {\n",
       "        vertical-align: middle;\n",
       "    }\n",
       "\n",
       "    .dataframe tbody tr th {\n",
       "        vertical-align: top;\n",
       "    }\n",
       "\n",
       "    .dataframe thead th {\n",
       "        text-align: right;\n",
       "    }\n",
       "</style>\n",
       "<table border=\"1\" class=\"dataframe\">\n",
       "  <thead>\n",
       "    <tr style=\"text-align: right;\">\n",
       "      <th></th>\n",
       "      <th>expected_loss</th>\n",
       "    </tr>\n",
       "    <tr>\n",
       "      <th>grade</th>\n",
       "      <th></th>\n",
       "    </tr>\n",
       "  </thead>\n",
       "  <tbody>\n",
       "    <tr>\n",
       "      <td>G</td>\n",
       "      <td>10301.648448</td>\n",
       "    </tr>\n",
       "    <tr>\n",
       "      <td>F</td>\n",
       "      <td>8997.545160</td>\n",
       "    </tr>\n",
       "    <tr>\n",
       "      <td>D</td>\n",
       "      <td>7486.806551</td>\n",
       "    </tr>\n",
       "    <tr>\n",
       "      <td>E</td>\n",
       "      <td>7262.556850</td>\n",
       "    </tr>\n",
       "    <tr>\n",
       "      <td>C</td>\n",
       "      <td>6331.601792</td>\n",
       "    </tr>\n",
       "    <tr>\n",
       "      <td>B</td>\n",
       "      <td>4341.460076</td>\n",
       "    </tr>\n",
       "    <tr>\n",
       "      <td>A</td>\n",
       "      <td>2318.850539</td>\n",
       "    </tr>\n",
       "  </tbody>\n",
       "</table>\n",
       "</div>"
      ],
      "text/plain": [
       "       expected_loss\n",
       "grade               \n",
       "G       10301.648448\n",
       "F        8997.545160\n",
       "D        7486.806551\n",
       "E        7262.556850\n",
       "C        6331.601792\n",
       "B        4341.460076\n",
       "A        2318.850539"
      ]
     },
     "execution_count": 29,
     "metadata": {},
     "output_type": "execute_result"
    }
   ],
   "source": [
    "new_business_data[['grade', 'expected_loss']].groupby('grade').mean() \\\n",
    "                                                  .sort_values('expected_loss', ascending = False).head(10)"
   ]
  },
  {
   "cell_type": "code",
   "execution_count": 1,
   "metadata": {},
   "outputs": [],
   "source": [
    "!pip freeze > requirements.txt"
   ]
  },
  {
   "cell_type": "markdown",
   "metadata": {},
   "source": [
    "Enhance scrutiny for borrowers with low grade since they have the greatest mean loan loss."
   ]
  }
 ],
 "metadata": {
  "kernelspec": {
   "display_name": "Python 3",
   "language": "python",
   "name": "python3"
  },
  "language_info": {
   "codemirror_mode": {
    "name": "ipython",
    "version": 3
   },
   "file_extension": ".py",
   "mimetype": "text/x-python",
   "name": "python",
   "nbconvert_exporter": "python",
   "pygments_lexer": "ipython3",
   "version": "3.7.3"
  },
  "toc": {
   "base_numbering": 1,
   "nav_menu": {},
   "number_sections": true,
   "sideBar": true,
   "skip_h1_title": false,
   "title_cell": "Table of Contents",
   "title_sidebar": "Contents",
   "toc_cell": true,
   "toc_position": {},
   "toc_section_display": true,
   "toc_window_display": false
  },
  "toc-autonumbering": false,
  "toc-showcode": false,
  "varInspector": {
   "cols": {
    "lenName": 16,
    "lenType": 16,
    "lenVar": 40
   },
   "kernels_config": {
    "python": {
     "delete_cmd_postfix": "",
     "delete_cmd_prefix": "del ",
     "library": "var_list.py",
     "varRefreshCmd": "print(var_dic_list())"
    },
    "r": {
     "delete_cmd_postfix": ") ",
     "delete_cmd_prefix": "rm(",
     "library": "var_list.r",
     "varRefreshCmd": "cat(var_dic_list()) "
    }
   },
   "types_to_exclude": [
    "module",
    "function",
    "builtin_function_or_method",
    "instance",
    "_Feature"
   ],
   "window_display": false
  }
 },
 "nbformat": 4,
 "nbformat_minor": 4
}
